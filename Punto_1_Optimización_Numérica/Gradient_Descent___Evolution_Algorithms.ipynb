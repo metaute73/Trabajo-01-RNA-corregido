{
  "cells": [
    {
      "cell_type": "markdown",
      "metadata": {
        "id": "ooHw4oqR5q9r"
      },
      "source": [
        "# Trabajo 01: Optimización heurística"
      ]
    },
    {
      "cell_type": "markdown",
      "metadata": {
        "id": "6rPODML061GS"
      },
      "source": [
        "Fecha: 03/12/2024\n",
        "\n",
        "Asingatura: Redes Neuronales y Algoritmos Bioinspirados - RNA\n",
        "\n",
        "Profesor: Juan David Ospina Arango\n",
        "\n",
        "Facultad de Minas\n",
        "\n",
        "Universidad Nacional de Colombia"
      ]
    },
    {
      "cell_type": "markdown",
      "metadata": {
        "id": "HevXq3jB5y_x"
      },
      "source": [
        "Grupo: 8\n",
        "\n",
        "Integrantes:\n",
        "- Hans Guillermo García Vargas - hggarciav@unal.edu.co\n",
        "- Daniel Metaute Medina - dmetaute@unal.edu.co\n",
        "- Juan Sebastián Zapata Echeverri - jzapataec@unal.edu.co\n",
        "- Juan José Monsalve Marín - jjmonsalvem@unal.edu.co\n"
      ]
    },
    {
      "cell_type": "markdown",
      "source": [
        "Puntos abordados de acuerdo a la distribución del trabajo por Hans Guillermo García Vargas presentados a continuación:\n",
        "\n",
        "1. Escoger las dos funciones de prueba\n",
        "2. Optimizar las dos funciones en dos y tres dimensiones usando un método de descenso por gradiente con condición inicial aleatoria\n",
        "3. Optimice las funciones en dos y tres dimensiones usando: algoritmos evolutivos.\n",
        "4. Represente con un gif animado o un video el proceso de optimización de descenso por gradiente y el proceso usando el método heurístico. *Nota: Los gifs se encuentran en cada una de las optimizaciones al final. Es decir el punto 4 esta implicito dentro de cada punto abordado en este trabajo.\n",
        "\n",
        "Adicionalmente se realiza: Reporte técnico de partes correspondientes, creación del repositorio de acuerdo con especificaciones."
      ],
      "metadata": {
        "id": "dNJx5VAYogWi"
      }
    },
    {
      "cell_type": "markdown",
      "metadata": {
        "id": "JMEEjZXp7UhJ"
      },
      "source": [
        "## Parte 1: Optimización numérica"
      ]
    },
    {
      "cell_type": "markdown",
      "metadata": {
        "id": "2_ubYJbN8x5d"
      },
      "source": [
        "Considere las siguientes funciones de prueba:\n",
        "\n",
        "    Función de Rosenbrock\n",
        "    Función de Rastrigin\n",
        "    Función de Schwefel.\n",
        "    Función de Griewank\n",
        "    Función Goldstein-Price\n",
        "    Función de las seis jorobas de camello ()"
      ]
    },
    {
      "cell_type": "markdown",
      "metadata": {
        "id": "WmxoTJi2Am6b"
      },
      "source": [
        "### 1. Escoja dos funciones de prueba\n"
      ]
    },
    {
      "cell_type": "markdown",
      "metadata": {
        "id": "JUDkAvrr7cmy"
      },
      "source": [
        "\n",
        "\n",
        "\n",
        "\n",
        "```\n",
        "De acuerdo con la lista provista de funciones se seleccionan las siguientes dos funciones de prueba:\n",
        "\n",
        "A. Función Rosenbrock\n",
        "B. Función Rastrigin\n",
        "```\n",
        "\n"
      ]
    },
    {
      "cell_type": "markdown",
      "metadata": {
        "id": "qexFgrlg9GfH"
      },
      "source": [
        "### 2. Optimice las funciones en dos y tres dimensiones usando un método de descenso por gradiente con condición inicial aleatoria."
      ]
    },
    {
      "cell_type": "markdown",
      "metadata": {
        "id": "VO1e9l6i9vkA"
      },
      "source": [
        "#### Optimización de funciones de prueba - Método de descenso por gradiante con condición inicial aleatoria."
      ]
    },
    {
      "cell_type": "markdown",
      "metadata": {
        "id": "PMgXCHNAvFEf"
      },
      "source": [
        "**Nota**: Se debe aclarar primero que la función Rosenbrock al ser una función que empieza en R^3, ya que es igual a f(x,y)=(x−1)^2+b (y−x^2)^2 para su dimensión más mínima se dira de aquí en adelante que para esta función \"2 Dimesnones\" corresponde a usar f(x,y) = z y para \"3 Dimensiones\" esta corresponde con f(x,y,z) = w"
      ]
    },
    {
      "cell_type": "markdown",
      "metadata": {
        "id": "dDjFZMGAmOkk"
      },
      "source": [
        "##### Función Rosenbrock (Rosenbrock function) - 2 Dimensiones"
      ]
    },
    {
      "cell_type": "code",
      "execution_count": null,
      "metadata": {
        "id": "MzA9HE3TcF1q"
      },
      "outputs": [],
      "source": [
        "import numpy as np\n",
        "import matplotlib.pyplot as plt\n",
        "from matplotlib import cm\n",
        "from matplotlib.ticker import LinearLocator, FormatStrFormatter\n",
        "from mpl_toolkits.mplot3d import Axes3D\n",
        "\n",
        "from matplotlib import animation\n",
        "from IPython.display import HTML\n",
        "from matplotlib.animation import FuncAnimation"
      ]
    },
    {
      "cell_type": "code",
      "execution_count": null,
      "metadata": {
        "id": "mzQ-dSvldmKV"
      },
      "outputs": [],
      "source": [
        "fRos2 = lambda x,y: np.array([(x - 1)**2 + 100*(y - x**2)**2])\n",
        "\n",
        "# Gráfica de la función mi_f\n",
        "\n",
        "ncols = 50\n",
        "nrows = 50\n",
        "x = np.linspace(-1, 1, ncols)\n",
        "y = np.linspace(-1, 1, nrows)\n",
        "X, Y = np.meshgrid(x, y)\n",
        "Z = fRos2(X, Y)\n",
        "Z = np.array(Z).reshape([nrows,ncols])"
      ]
    },
    {
      "cell_type": "code",
      "execution_count": null,
      "metadata": {
        "id": "-B1Np24_RQ1k"
      },
      "outputs": [],
      "source": [
        "fig, ax = plt.subplots()\n",
        "contorno = ax.contour(X,Y,Z, levels = 50, cmap='hot')\n",
        "plt.title(\"Función de F\")\n",
        "# Add a color bar which maps values to colors.\n",
        "ax.yaxis.set_major_locator(LinearLocator(5))\n",
        "ax.xaxis.set_major_locator(LinearLocator(5))\n",
        "fig.colorbar(contorno, shrink=0.5, aspect=20)\n",
        "plt.show()"
      ]
    },
    {
      "cell_type": "code",
      "execution_count": null,
      "metadata": {
        "id": "ArsKcEwnfTyf"
      },
      "outputs": [],
      "source": [
        "fig = plt.figure()\n",
        "ax = fig.add_subplot(111, projection='3d', title='Rosenbrock function R^2')\n",
        "\n",
        "# Plot the surface.\n",
        "surf = ax.plot_surface(X, Y, Z, cmap='hot', linewidth=0, antialiased=False)\n",
        "\n",
        "ax.set_xlabel('X')\n",
        "ax.set_ylabel('Y')\n",
        "ax.set_zlabel('Z')\n",
        "\n",
        "# Add a color bar which maps values to colors.\n",
        "fig.colorbar(surf, shrink=0.5, aspect=5)\n",
        "\n",
        "plt.show()"
      ]
    },
    {
      "cell_type": "markdown",
      "metadata": {
        "id": "xGrUfGw8ZaO_"
      },
      "source": [
        "###### **Optimización en dos dimensiones con gradiente explícito**"
      ]
    },
    {
      "cell_type": "code",
      "execution_count": null,
      "metadata": {
        "id": "njFxbTevVEg9"
      },
      "outputs": [],
      "source": [
        "# Función gradiente\n",
        "dfRos2 = lambda x,y: np.array([2*(x-1) - 4*100*(y - x**2)*x, 2*100*(y-x**2)])"
      ]
    },
    {
      "cell_type": "code",
      "execution_count": null,
      "metadata": {
        "id": "Ig8tIiAAYT-1"
      },
      "outputs": [],
      "source": [
        "FRos2 = lambda X: fRos2(X[0],X[1])\n",
        "dFRos2 = lambda X: dfRos2(X[0],X[1])"
      ]
    },
    {
      "cell_type": "markdown",
      "metadata": {
        "id": "VSyCyPetp7mZ"
      },
      "source": [
        "**Condicion inicial aleatoria**"
      ]
    },
    {
      "cell_type": "code",
      "execution_count": null,
      "metadata": {
        "id": "tFlGwi18t5Ax"
      },
      "outputs": [],
      "source": [
        "x0 = np.random.rand(2)\n",
        "print(x0)\n",
        "print(FRos2(x0))\n",
        "print(dFRos2(x0))"
      ]
    },
    {
      "cell_type": "code",
      "execution_count": null,
      "metadata": {
        "id": "_u3RagePV5f4"
      },
      "outputs": [],
      "source": [
        "def mi_optimizador_ndim(x0, g, g1p, lr = 0.001, tol = 0.0000001, max_iter = 100):\n",
        "  solucion = list()\n",
        "  valor_obj = list()\n",
        "  k = 0\n",
        "  solucion.append(x0)\n",
        "  valor_obj.append(g(x0))\n",
        "  delta_sol = 1\n",
        "  while (delta_sol>tol) and (k<max_iter):\n",
        "    x_new = solucion[k] - lr * g1p(solucion[k])\n",
        "    solucion.append(x_new)\n",
        "    valor_obj.append(g(x_new))\n",
        "    k=k+1\n",
        "    delta_sol = np.abs(solucion[k-1] - solucion[k]).max()\n",
        "  return(solucion,valor_obj,k)"
      ]
    },
    {
      "cell_type": "code",
      "execution_count": null,
      "metadata": {
        "id": "SamzArfjvBRm"
      },
      "outputs": [],
      "source": [
        "# Optimización numérica con gradiente explícito:\n",
        "sol, f_obj, k = mi_optimizador_ndim(x0 = x0, g=FRos2, g1p=dFRos2, lr = 0.001, tol = 0.0001)"
      ]
    },
    {
      "cell_type": "markdown",
      "metadata": {
        "id": "7tLZQmP3wsmS"
      },
      "source": [
        "Ahora llevemos a cabo la optimización numérica con el gradiente explícito."
      ]
    },
    {
      "cell_type": "markdown",
      "metadata": {
        "id": "yP02tWRnw5zn"
      },
      "source": [
        "Veamos el resultado:"
      ]
    },
    {
      "cell_type": "code",
      "execution_count": null,
      "metadata": {
        "id": "pUzBIgwDveHN"
      },
      "outputs": [],
      "source": [
        "fig, ax = plt.subplots()\n",
        "contorno = ax.contour(X,Y,Z, levels = 50, cmap='hot')\n",
        "plt.title(\"Función F\")\n",
        "for i in range(len(sol)):\n",
        "  plt.plot(sol[i][0],sol[i][1],'b*')\n",
        "# Add a color bar which maps values to colors.\n",
        "ax.yaxis.set_major_locator(LinearLocator(5))\n",
        "ax.xaxis.set_major_locator(LinearLocator(5))\n",
        "fig.colorbar(contorno, shrink=0.5, aspect=20)\n",
        "plt.show()"
      ]
    },
    {
      "cell_type": "markdown",
      "source": [
        "4. Animación GIF Rosenbrock 2D - Gradient Descent Explícito"
      ],
      "metadata": {
        "id": "Lbt5ZeV4cer8"
      }
    },
    {
      "cell_type": "code",
      "source": [
        "from IPython.display import HTML\n",
        "import matplotlib\n",
        "matplotlib.rcParams['animation.embed_limit'] = 30\n",
        "\n",
        "# Define the optimization function using gradient descent\n",
        "def gradient_descent(x0, learning_rate=0.001, tolerance=0.0001, max_iterations=100):\n",
        "    sol = [x0]\n",
        "    k = 0\n",
        "    while k < max_iterations:\n",
        "        gradient = dfRos2(*sol[-1])\n",
        "        x_new = sol[-1] - learning_rate * gradient\n",
        "        sol.append(x_new)\n",
        "        if np.linalg.norm(gradient) < tolerance:\n",
        "            break\n",
        "        k += 1\n",
        "    return sol\n",
        "\n",
        "# Perform gradient descent optimization\n",
        "solution_path = gradient_descent(x0)\n",
        "\n",
        "# Create a function to generate frames for the animation\n",
        "def generate_frames(i):\n",
        "    plt.clf()\n",
        "    plt.contour(X, Y, Z, levels=50, cmap='hot')\n",
        "    plt.plot([point[0] for point in solution_path[:i+1]], [point[1] for point in solution_path[:i+1]], 'b*-')\n",
        "    plt.title(f\"Rosenbrok 2D Gradiente explícito Iteración {i}\")\n",
        "    plt.gca().set_aspect('equal', adjustable='box')\n",
        "    return []\n",
        "\n",
        "# Create the animation\n",
        "fig = plt.figure()\n",
        "ani = animation.FuncAnimation(fig, generate_frames, frames=len(solution_path), interval=100, blit=True)\n",
        "\n",
        "# Display the animation\n",
        "HTML(ani.to_jshtml())"
      ],
      "metadata": {
        "id": "3s7PY1JcVlki"
      },
      "execution_count": null,
      "outputs": []
    },
    {
      "cell_type": "markdown",
      "metadata": {
        "id": "POpaEAbZhbir"
      },
      "source": [
        "###### **Optimización en dos dimensiones con gradiente numérico**"
      ]
    },
    {
      "cell_type": "markdown",
      "metadata": {
        "id": "XQqQyGpjkQuB"
      },
      "source": [
        "Notemos que el gradiente numerico para R^2 esta definido por la funcion dF."
      ]
    },
    {
      "cell_type": "code",
      "execution_count": null,
      "metadata": {
        "id": "Gx8m947ViFUO"
      },
      "outputs": [],
      "source": [
        "dFRos2(x0)"
      ]
    },
    {
      "cell_type": "markdown",
      "metadata": {
        "id": "YzXpUo5GkpbA"
      },
      "source": [
        "A continuación definimos la optimización con gradiente numérico:"
      ]
    },
    {
      "cell_type": "code",
      "execution_count": null,
      "metadata": {
        "id": "99IbIFUfks5P"
      },
      "outputs": [],
      "source": [
        "def mi_optimizador_num_dif_ndim(x0, g, lr = 0.001, tol = 0.0000001, max_iter = 100, h= 0.01):\n",
        "  solucion = list()\n",
        "  valor_obj = list()\n",
        "  k = 0\n",
        "  solucion.append(x0)\n",
        "  valor_obj.append(g(x0))\n",
        "  delta_sol = 1\n",
        "  while (delta_sol>tol) and (k<max_iter):\n",
        "    x_new = solucion[k] - lr * dFRos2(solucion[k])\n",
        "    solucion.append(x_new)\n",
        "    valor_obj.append(g(x_new))\n",
        "    k=k+1\n",
        "    delta_sol = np.abs(solucion[k-1] - solucion[k]).max()\n",
        "  return(solucion,valor_obj,k)"
      ]
    },
    {
      "cell_type": "code",
      "execution_count": null,
      "metadata": {
        "id": "QfUmv1ypkwan"
      },
      "outputs": [],
      "source": [
        "# Optimización numérica con gradiente numérico:\n",
        "sol_ndim_num, f_obj__ndim_num, k_ndim_num = mi_optimizador_num_dif_ndim(x0 = x0, g=FRos2, lr = 0.001, tol = 0.0001)"
      ]
    },
    {
      "cell_type": "markdown",
      "metadata": {
        "id": "cjDZEycAlkY5"
      },
      "source": [
        "Veamos el resultado:"
      ]
    },
    {
      "cell_type": "code",
      "execution_count": null,
      "metadata": {
        "id": "PSmFG5JgltYg"
      },
      "outputs": [],
      "source": [
        "fig, ax = plt.subplots()\n",
        "contorno = ax.contour(X,Y,Z, levels = 50, cmap='hot')\n",
        "plt.title(\"Función F\")\n",
        "for i in range(len(sol_ndim_num)):\n",
        "  plt.plot(sol_ndim_num[i][0],sol_ndim_num[i][1],'b*')\n",
        "# Barra de colores.\n",
        "ax.yaxis.set_major_locator(LinearLocator(5))\n",
        "ax.xaxis.set_major_locator(LinearLocator(5))\n",
        "fig.colorbar(contorno, shrink=0.5, aspect=20)\n",
        "plt.show()"
      ]
    },
    {
      "cell_type": "markdown",
      "source": [
        "4. Animación GIF Rosenbrock 2D - Descent Gradient numérico"
      ],
      "metadata": {
        "id": "-XkJf5vec6gR"
      }
    },
    {
      "cell_type": "code",
      "source": [
        "from IPython.display import HTML\n",
        "import matplotlib\n",
        "matplotlib.rcParams['animation.embed_limit'] = 30\n",
        "\n",
        "# Define the optimization function using gradient descent\n",
        "def gradient_descent(x0, learning_rate=0.001, tolerance=0.0001, max_iterations=100):\n",
        "    sol = [x0]\n",
        "    k = 0\n",
        "    while k < max_iterations:\n",
        "        gradient = dfRos2(*sol[-1])\n",
        "        x_new = sol[-1] - learning_rate * gradient\n",
        "        sol.append(x_new)\n",
        "        if np.linalg.norm(gradient) < tolerance:\n",
        "            break\n",
        "        k += 1\n",
        "    return sol\n",
        "\n",
        "# Perform gradient descent optimization\n",
        "solution_path = gradient_descent(x0)\n",
        "\n",
        "# Create a function to generate frames for the animation\n",
        "def generate_frames(i):\n",
        "    plt.clf()\n",
        "    plt.contour(X, Y, Z, levels=50, cmap='hot')\n",
        "    plt.plot([point[0] for point in solution_path[:i+1]], [point[1] for point in solution_path[:i+1]], 'b*-')\n",
        "    plt.title(f\"Rosenbrok 2D Gradiente numérico Iteración {i}\")\n",
        "    plt.gca().set_aspect('equal', adjustable='box')\n",
        "    return []\n",
        "\n",
        "# Create the animation\n",
        "fig = plt.figure()\n",
        "ani = animation.FuncAnimation(fig, generate_frames, frames=len(solution_path), interval=100, blit=True)\n",
        "\n",
        "# Display the animation\n",
        "HTML(ani.to_jshtml())"
      ],
      "metadata": {
        "id": "TbN31t3gcY8h"
      },
      "execution_count": null,
      "outputs": []
    },
    {
      "cell_type": "markdown",
      "metadata": {
        "id": "j_VnPoaSrGLv"
      },
      "source": [
        "##### Función Rosenbrock (Rosenbrock function) - 3 Dimensiones"
      ]
    },
    {
      "cell_type": "code",
      "execution_count": null,
      "metadata": {
        "id": "LPMaWbBH-e4J"
      },
      "outputs": [],
      "source": [
        "import numpy as np\n",
        "import matplotlib.pyplot as plt\n",
        "from matplotlib import cm\n",
        "from matplotlib.ticker import LinearLocator, FormatStrFormatter\n",
        "from mpl_toolkits.mplot3d import Axes3D\n",
        "\n",
        "fRos3 = lambda x, y, z: (x - 1)**2 + 100*(y - x**2)**2 + (1 - y)**2 + 100*(z - y**2)**2\n",
        "\n",
        "# Gráfica de la función mi_f\n",
        "\n",
        "ncols = 50\n",
        "nrows = 50\n",
        "nzcols = 50\n",
        "x = np.linspace(-2, 2, ncols)\n",
        "y = np.linspace(-2, 2, nrows)\n",
        "z = np.linspace(-2, 2, nzcols)\n",
        "\n",
        "X, Y, Z = np.meshgrid(x, y, z)\n",
        "W = fRos3(X, Y, Z)\n",
        "\n",
        "# Create a 3D plot\n",
        "fig = plt.figure()\n",
        "ax = fig.add_subplot(111, projection='3d')\n",
        "\n",
        "# Plot the surface\n",
        "surf = ax.plot_surface(X[:,:,0], Y[:,:,0], W[:,:,0], cmap='hot')\n",
        "\n",
        "# Add labels and title\n",
        "ax.set_xlabel('X')\n",
        "ax.set_ylabel('Y')\n",
        "ax.set_zlabel('Rosenbrock Function')\n",
        "ax.set_title('Rosenbrock Function R^3')\n",
        "\n",
        "# Add a color bar\n",
        "fig.colorbar(surf)\n",
        "\n",
        "# Show the plot\n",
        "plt.show()\n"
      ]
    },
    {
      "cell_type": "markdown",
      "metadata": {
        "id": "e68l8SJQrGL4"
      },
      "source": [
        "###### **Optimización en dos dimensiones con gradiente explícito**"
      ]
    },
    {
      "cell_type": "code",
      "execution_count": null,
      "metadata": {
        "id": "RqgyVKMSrGL5"
      },
      "outputs": [],
      "source": [
        "# Función gradiente\n",
        "dfRos3 = lambda x,y,z: np.array([2*(x-1) - 4*100*(y - x**2)*x, 200*(y-x**2) - 2*(1-y)-400*(y**2 - z), 200*(z-y**2)])"
      ]
    },
    {
      "cell_type": "code",
      "execution_count": null,
      "metadata": {
        "id": "UKu3WcgirGL5"
      },
      "outputs": [],
      "source": [
        "FRos3 = lambda X: fRos3(X[0],X[1],X[2])\n",
        "dFRos3 = lambda X: dfRos3(X[0],X[1],X[2])"
      ]
    },
    {
      "cell_type": "markdown",
      "metadata": {
        "id": "1DvKsHqArGL7"
      },
      "source": [
        "**Condicion inicial aleatoria**"
      ]
    },
    {
      "cell_type": "code",
      "execution_count": null,
      "metadata": {
        "id": "mnTxVrztrGL8"
      },
      "outputs": [],
      "source": [
        "x0 = np.random.rand(3)\n",
        "print(x0)\n",
        "print(FRos3(x0))\n",
        "print(dFRos3(x0))"
      ]
    },
    {
      "cell_type": "markdown",
      "metadata": {
        "id": "CbREddB1AKw5"
      },
      "source": [
        "Ahora definiremos el método de optimización multivariado. Observemos que tiene muy pocas modificaciones respecto a la función que habíamos definido previamente."
      ]
    },
    {
      "cell_type": "code",
      "execution_count": null,
      "metadata": {
        "id": "K-Quq_-frGL9"
      },
      "outputs": [],
      "source": [
        "def mi_optimizador_ndim(x0, g, g1p, lr = 0.001, tol = 0.0000001, max_iter = 100):\n",
        "  solucion = list()\n",
        "  valor_obj = list()\n",
        "  k = 0\n",
        "  solucion.append(x0)\n",
        "  valor_obj.append(g(x0))\n",
        "  delta_sol = 1\n",
        "  while (delta_sol>tol) and (k<max_iter):\n",
        "    x_new = solucion[k] - lr * g1p(solucion[k])\n",
        "    solucion.append(x_new)\n",
        "    valor_obj.append(g(x_new))\n",
        "    k=k+1\n",
        "    delta_sol = np.abs(solucion[k-1] - solucion[k]).max()\n",
        "  return(solucion,valor_obj,k)"
      ]
    },
    {
      "cell_type": "markdown",
      "metadata": {
        "id": "zh5tGpOLrGL-"
      },
      "source": [
        "Ahora llevemos a cabo la optimización numérica con el gradiente explícito."
      ]
    },
    {
      "cell_type": "code",
      "execution_count": null,
      "metadata": {
        "id": "g0O9sLYVrGL-"
      },
      "outputs": [],
      "source": [
        "# Optimización numérica con gradiente explícito:\n",
        "sol, f_obj, k = mi_optimizador_ndim(x0 = x0, g=FRos3, g1p=dFRos3, lr = 0.001, tol = 0.0001)"
      ]
    },
    {
      "cell_type": "markdown",
      "metadata": {
        "id": "ukymkdvprGL_"
      },
      "source": [
        "Veamos el resultado:"
      ]
    },
    {
      "cell_type": "code",
      "execution_count": null,
      "metadata": {
        "id": "oMRZKtZ8rGL_"
      },
      "outputs": [],
      "source": [
        "# Plot the surface\n",
        "fig = plt.figure()\n",
        "ax = fig.add_subplot(111, projection='3d')\n",
        "surf = ax.plot_surface(X[:,:,0], Y[:,:,0], W[:,:,0], cmap='hot', alpha=0.7)\n",
        "\n",
        "# Set view to top-down\n",
        "ax.view_init(elev=90, azim=0)\n",
        "\n",
        "# Plot contours\n",
        "contour = ax.contour(X[:,:,0], Y[:,:,0], W[:,:,0], levels=20, cmap='hot')\n",
        "\n",
        "# Plot solution points (if sol is defined)\n",
        "for point in sol:\n",
        "    ax.plot([point[0]], [point[1]], [point[2]], 'b*')\n",
        "\n",
        "# Add labels and title\n",
        "ax.set_xlabel('X')\n",
        "ax.set_ylabel('Y')\n",
        "ax.set_zlabel('Z')\n",
        "ax.set_title('Rosenbrock Function in R^3')\n",
        "\n",
        "# Add color bar\n",
        "fig.colorbar(surf, shrink=0.5, aspect=5)\n",
        "\n",
        "# Set locator for major ticks\n",
        "ax.xaxis.set_major_locator(LinearLocator(5))\n",
        "ax.yaxis.set_major_locator(LinearLocator(5))\n",
        "ax.zaxis.set_major_locator(LinearLocator(5))\n",
        "\n",
        "# Show the plot\n",
        "plt.show()"
      ]
    },
    {
      "cell_type": "markdown",
      "source": [
        "4. Animación GIF Rosenbrock 3D - Gradient Descent Explícito"
      ],
      "metadata": {
        "id": "zPPbhSANe61K"
      }
    },
    {
      "cell_type": "code",
      "source": [
        "from IPython.display import HTML\n",
        "import matplotlib\n",
        "matplotlib.rcParams['animation.embed_limit'] = 30\n",
        "\n",
        "# Define the optimization function using gradient descent\n",
        "def gradient_descent(x0, learning_rate=0.001, tolerance=0.0001, max_iterations=100):\n",
        "    sol = [x0]\n",
        "    k = 0\n",
        "    while k < max_iterations:\n",
        "        gradient = dfRos3(*sol[-1])\n",
        "        x_new = sol[-1] - learning_rate * gradient\n",
        "        sol.append(x_new)\n",
        "        if np.linalg.norm(gradient) < tolerance:\n",
        "            break\n",
        "        k += 1\n",
        "    return sol\n",
        "\n",
        "# Perform gradient descent optimization\n",
        "solution_path = gradient_descent(x0)\n",
        "\n",
        "# Create a function to generate frames for the animation\n",
        "def generate_frames(i):\n",
        "    plt.clf()\n",
        "    ax = plt.axes(projection='3d')\n",
        "    ax.contour3D(X[:,:,0], Y[:,:,0], W[:,:,0], 7, cmap='hot')\n",
        "    x_vals = [point[0] for point in solution_path[:i+1]]\n",
        "    y_vals = [point[1] for point in solution_path[:i+1]]\n",
        "    z_vals = [fRos3(*point) for point in solution_path[:i+1]]\n",
        "    ax.plot3D(x_vals, y_vals, z_vals, 'b*-')\n",
        "    ax.set_xlabel('X')\n",
        "    ax.set_ylabel('Y')\n",
        "    ax.set_zlabel('Z')\n",
        "    ax.set_title(f\"Rosenbrok 3D Gradient Descent explícito Iteración {i}\")\n",
        "    ax.view_init(elev=90, azim=0)  # Rotate the figure\n",
        "    return []\n",
        "\n",
        "# Create the figure and axis\n",
        "fig = plt.figure()\n",
        "ax = fig.add_subplot(111, projection='3d')\n",
        "\n",
        "# Set up the initial view\n",
        "ax.view_init(elev=30, azim=0)\n",
        "\n",
        "# Create the animation\n",
        "ani = FuncAnimation(fig, generate_frames, frames=len(solution_path), interval=100, blit=False)\n",
        "\n",
        "# Display the animation\n",
        "HTML(ani.to_jshtml())"
      ],
      "metadata": {
        "id": "vJxLwT31e5_2"
      },
      "execution_count": null,
      "outputs": []
    },
    {
      "cell_type": "markdown",
      "metadata": {
        "id": "5WBdVhTIrGL_"
      },
      "source": [
        "###### **Optimización en dos dimensiones con gradiente numérico**"
      ]
    },
    {
      "cell_type": "markdown",
      "metadata": {
        "id": "CmfvFZvXrGMA"
      },
      "source": [
        "Notemos que el gradiente numerico para R^3 esta definido por la funcion dF3."
      ]
    },
    {
      "cell_type": "code",
      "execution_count": null,
      "metadata": {
        "id": "WLXT3TmDrGMB"
      },
      "outputs": [],
      "source": [
        "dFRos3(x0)"
      ]
    },
    {
      "cell_type": "markdown",
      "metadata": {
        "id": "MS0kdXtXrGMJ"
      },
      "source": [
        "A continuación definimos la optimización con gradiente numérico:"
      ]
    },
    {
      "cell_type": "code",
      "execution_count": null,
      "metadata": {
        "id": "AI9z6tbxrGMJ"
      },
      "outputs": [],
      "source": [
        "def mi_optimizador_num_dif_ndim(x0, g, lr = 0.001, tol = 0.0000001, max_iter = 100, h= 0.01):\n",
        "  solucion = list()\n",
        "  valor_obj = list()\n",
        "  k = 0\n",
        "  solucion.append(x0)\n",
        "  valor_obj.append(g(x0))\n",
        "  delta_sol = 1\n",
        "  while (delta_sol>tol) and (k<max_iter):\n",
        "    x_new = solucion[k] - lr * dFRos3(solucion[k])\n",
        "    solucion.append(x_new)\n",
        "    valor_obj.append(g(x_new))\n",
        "    k=k+1\n",
        "    delta_sol = np.abs(solucion[k-1] - solucion[k]).max()\n",
        "  return(solucion,valor_obj,k)"
      ]
    },
    {
      "cell_type": "code",
      "execution_count": null,
      "metadata": {
        "id": "5yvQqdY8rGMJ"
      },
      "outputs": [],
      "source": [
        "# Optimización numérica con gradiente numérico:\n",
        "sol_ndim_num, f_obj__ndim_num, k_ndim_num = mi_optimizador_num_dif_ndim(x0 = x0, g=FRos3, lr = 0.001, tol = 0.0001)"
      ]
    },
    {
      "cell_type": "markdown",
      "metadata": {
        "id": "hOB4scj3rGMK"
      },
      "source": [
        "Veamos el resultado:"
      ]
    },
    {
      "cell_type": "code",
      "execution_count": null,
      "metadata": {
        "id": "fWyOgCvArGMK"
      },
      "outputs": [],
      "source": [
        "# Plot the surface\n",
        "fig = plt.figure()\n",
        "ax = fig.add_subplot(111, projection='3d')\n",
        "surf = ax.plot_surface(X[:,:,0], Y[:,:,0], W[:,:,0], cmap='hot', alpha=0.7)\n",
        "\n",
        "# Set view to top-down\n",
        "ax.view_init(elev=90, azim=0)\n",
        "\n",
        "# Plot contours\n",
        "contour = ax.contour(X[:,:,0], Y[:,:,0], W[:,:,0], levels=20, cmap='hot')\n",
        "\n",
        "# Plot solution points (if sol is defined)\n",
        "for point in sol:\n",
        "    ax.plot([point[0]], [point[1]], [point[2]], 'b*')\n",
        "\n",
        "# Add labels and title\n",
        "ax.set_xlabel('X')\n",
        "ax.set_ylabel('Y')\n",
        "ax.set_zlabel('Z')\n",
        "ax.set_title('Rosenbrock Function in R^3')\n",
        "\n",
        "# Add color bar\n",
        "fig.colorbar(surf, shrink=0.5, aspect=5)\n",
        "\n",
        "# Set locator for major ticks\n",
        "ax.xaxis.set_major_locator(LinearLocator(5))\n",
        "ax.yaxis.set_major_locator(LinearLocator(5))\n",
        "ax.zaxis.set_major_locator(LinearLocator(5))\n",
        "\n",
        "# Show the plot\n",
        "plt.show()"
      ]
    },
    {
      "cell_type": "markdown",
      "source": [
        "4. Animación GIF Rosenbrock 3D - Gradient Descent Numérico"
      ],
      "metadata": {
        "id": "qbzMMH35nXZ6"
      }
    },
    {
      "cell_type": "code",
      "source": [
        "from IPython.display import HTML\n",
        "import matplotlib\n",
        "matplotlib.rcParams['animation.embed_limit'] = 30\n",
        "\n",
        "# Define the optimization function using gradient descent\n",
        "def gradient_descent(x0, learning_rate=0.001, tolerance=0.0001, max_iterations=100):\n",
        "    sol = [x0]\n",
        "    k = 0\n",
        "    while k < max_iterations:\n",
        "        gradient = dfRos3(*sol[-1])\n",
        "        x_new = sol[-1] - learning_rate * gradient\n",
        "        sol.append(x_new)\n",
        "        if np.linalg.norm(gradient) < tolerance:\n",
        "            break\n",
        "        k += 1\n",
        "    return sol\n",
        "\n",
        "# Perform gradient descent optimization\n",
        "solution_path = gradient_descent(x0)\n",
        "\n",
        "# Create a function to generate frames for the animation\n",
        "def generate_frames(i):\n",
        "    plt.clf()\n",
        "    ax = plt.axes(projection='3d')\n",
        "    ax.contour3D(X[:,:,0], Y[:,:,0], W[:,:,0], 7, cmap='hot')\n",
        "    x_vals = [point[0] for point in solution_path[:i+1]]\n",
        "    y_vals = [point[1] for point in solution_path[:i+1]]\n",
        "    z_vals = [fRos3(*point) for point in solution_path[:i+1]]\n",
        "    ax.plot3D(x_vals, y_vals, z_vals, 'b*-')\n",
        "    ax.set_xlabel('X')\n",
        "    ax.set_ylabel('Y')\n",
        "    ax.set_zlabel('Z')\n",
        "    ax.set_title(f\"Rosenbrok 3D Gradient Descent numérico Iteración {i}\")\n",
        "    ax.view_init(elev=90, azim=0)  # Rotate the figure\n",
        "    return []\n",
        "\n",
        "# Create the figure and axis\n",
        "fig = plt.figure()\n",
        "ax = fig.add_subplot(111, projection='3d')\n",
        "\n",
        "# Set up the initial view\n",
        "ax.view_init(elev=30, azim=0)\n",
        "\n",
        "# Create the animation\n",
        "ani = FuncAnimation(fig, generate_frames, frames=len(solution_path), interval=100, blit=False)\n",
        "\n",
        "# Display the animation\n",
        "HTML(ani.to_jshtml())"
      ],
      "metadata": {
        "id": "5gwYhXefnX4X"
      },
      "execution_count": null,
      "outputs": []
    },
    {
      "cell_type": "markdown",
      "metadata": {
        "id": "5yNRaVp8EdoA"
      },
      "source": [
        "##### Función Rastrigin (Rastrigin function) - 2 Dimensiones"
      ]
    },
    {
      "cell_type": "code",
      "execution_count": null,
      "metadata": {
        "id": "ppmoOBASEdoB"
      },
      "outputs": [],
      "source": [
        "import numpy as np\n",
        "import matplotlib.pyplot as plt\n",
        "from matplotlib import cm\n",
        "from matplotlib.ticker import LinearLocator, FormatStrFormatter\n",
        "from mpl_toolkits.mplot3d import Axes3D"
      ]
    },
    {
      "cell_type": "code",
      "execution_count": null,
      "metadata": {
        "id": "mOJz7xcuEdoC"
      },
      "outputs": [],
      "source": [
        "fRas2 = lambda x,y: np.array([20 + (x**2 - 10 * np.cos(2 * np.pi * x)) + (y**2 - 10 * np.cos(2 * np.pi * y))\n",
        "])\n",
        "\n",
        "# Gráfica de la función f\n",
        "\n",
        "ncols = 50\n",
        "nrows = 50\n",
        "x = np.linspace(-2, 2, ncols)\n",
        "y = np.linspace(-1, 3, nrows)\n",
        "X, Y = np.meshgrid(x, y)\n",
        "Z = fRas2(X, Y)\n",
        "Z = np.array(Z).reshape([nrows,ncols])"
      ]
    },
    {
      "cell_type": "code",
      "execution_count": null,
      "metadata": {
        "id": "L-We_HuFEdoD"
      },
      "outputs": [],
      "source": [
        "fig, ax = plt.subplots()\n",
        "contorno = ax.contour(X,Y,Z, levels = 20, cmap='hot')\n",
        "plt.title(\"Función de F\")\n",
        "# Add a color bar which maps values to colors.\n",
        "ax.yaxis.set_major_locator(LinearLocator(5))\n",
        "ax.xaxis.set_major_locator(LinearLocator(5))\n",
        "fig.colorbar(contorno, shrink=0.5, aspect=20)\n",
        "plt.show()"
      ]
    },
    {
      "cell_type": "code",
      "execution_count": null,
      "metadata": {
        "id": "qSHstLLJEdoD"
      },
      "outputs": [],
      "source": [
        "fig = plt.figure()\n",
        "ax = fig.add_subplot(111, projection='3d', title='Rastrigin function R^2')\n",
        "\n",
        "# Plot the surface.\n",
        "surf = ax.plot_surface(X, Y, Z, cmap='hot', linewidth=0, antialiased=False)\n",
        "\n",
        "ax.set_xlabel('X')\n",
        "ax.set_ylabel('Y')\n",
        "ax.set_zlabel('Z')\n",
        "\n",
        "# Add a color bar which maps values to colors.\n",
        "fig.colorbar(surf, shrink=0.5, aspect=5)\n",
        "\n",
        "plt.show()"
      ]
    },
    {
      "cell_type": "markdown",
      "metadata": {
        "id": "Yf58YeRuEdoE"
      },
      "source": [
        "###### **Optimización en dos dimensiones con gradiente explícito**"
      ]
    },
    {
      "cell_type": "code",
      "execution_count": null,
      "metadata": {
        "id": "Noy1dIp0EdoF"
      },
      "outputs": [],
      "source": [
        "# Función gradiente\n",
        "dfRas2 = lambda x,y: np.array([2 * x + 20 * np.pi * np.sin(2 * np.pi * x), 2 * y + 20 * np.pi * np.sin(2 * np.pi * y)])"
      ]
    },
    {
      "cell_type": "code",
      "execution_count": null,
      "metadata": {
        "id": "VFaVJeYhEdoF"
      },
      "outputs": [],
      "source": [
        "FRas2 = lambda X: fRas2(X[0],X[1])\n",
        "dFRas2 = lambda X: dfRas2(X[0],X[1])"
      ]
    },
    {
      "cell_type": "markdown",
      "metadata": {
        "id": "73e4ceIAEdoG"
      },
      "source": [
        "**Condicion inicial aleatoria**"
      ]
    },
    {
      "cell_type": "code",
      "execution_count": null,
      "metadata": {
        "id": "IMbnU-PtEdoG"
      },
      "outputs": [],
      "source": [
        "x0 = np.random.rand(2)\n",
        "print(x0)\n",
        "print(FRas2(x0))\n",
        "print(dFRas2(x0))"
      ]
    },
    {
      "cell_type": "code",
      "execution_count": null,
      "metadata": {
        "id": "PVCyoDSPEdoI"
      },
      "outputs": [],
      "source": [
        "def mi_optimizador_ndim(x0, g, g1p, lr = 0.001, tol = 0.0000001, max_iter = 100):\n",
        "  solucion = list()\n",
        "  valor_obj = list()\n",
        "  k = 0\n",
        "  solucion.append(x0)\n",
        "  valor_obj.append(g(x0))\n",
        "  delta_sol = 1\n",
        "  while (delta_sol>tol) and (k<max_iter):\n",
        "    x_new = solucion[k] - lr * g1p(solucion[k])\n",
        "    solucion.append(x_new)\n",
        "    valor_obj.append(g(x_new))\n",
        "    k=k+1\n",
        "    delta_sol = np.abs(solucion[k-1] - solucion[k]).max()\n",
        "  return(solucion,valor_obj,k)"
      ]
    },
    {
      "cell_type": "code",
      "execution_count": null,
      "metadata": {
        "id": "iHit4u2YEdoI"
      },
      "outputs": [],
      "source": [
        "# Optimización numérica con gradiente explícito:\n",
        "sol, f_obj, k = mi_optimizador_ndim(x0 = x0, g=FRas2, g1p=dFRas2, lr = 0.001, tol = 0.0001)"
      ]
    },
    {
      "cell_type": "markdown",
      "metadata": {
        "id": "Rk-L7Do0EdoJ"
      },
      "source": [
        "Ahora llevemos a cabo la optimización numérica con el gradiente explícito."
      ]
    },
    {
      "cell_type": "markdown",
      "metadata": {
        "id": "NlghVpWhEdoJ"
      },
      "source": [
        "Veamos el resultado:"
      ]
    },
    {
      "cell_type": "code",
      "execution_count": null,
      "metadata": {
        "id": "fjN4s6sVEdoK"
      },
      "outputs": [],
      "source": [
        "fig, ax = plt.subplots()\n",
        "contorno = ax.contour(X,Y,Z, levels = 20, cmap='hot')\n",
        "plt.title(\"Función F\")\n",
        "for i in range(len(sol)):\n",
        "  plt.plot(sol[i][0],sol[i][1],'b*')\n",
        "# Add a color bar which maps values to colors.\n",
        "ax.set_xlabel('X')\n",
        "ax.set_ylabel('Y')\n",
        "ax.yaxis.set_major_locator(LinearLocator(5))\n",
        "ax.xaxis.set_major_locator(LinearLocator(5))\n",
        "fig.colorbar(contorno, shrink=0.5, aspect=20)\n",
        "plt.show()"
      ]
    },
    {
      "cell_type": "markdown",
      "source": [
        "4. Animación GIF Rastrigin 2D - Descent Gradient explícito"
      ],
      "metadata": {
        "id": "9Q3HWCtSoZen"
      }
    },
    {
      "cell_type": "code",
      "source": [
        "from IPython.display import HTML\n",
        "import matplotlib\n",
        "matplotlib.rcParams['animation.embed_limit'] = 30\n",
        "\n",
        "# Define the optimization function using gradient descent\n",
        "def gradient_descent(x0, learning_rate=0.001, tolerance=0.0001, max_iterations=100):\n",
        "    sol = [x0]\n",
        "    k = 0\n",
        "    while k < max_iterations:\n",
        "        gradient = dfRas2(*sol[-1])\n",
        "        x_new = sol[-1] - learning_rate * gradient\n",
        "        sol.append(x_new)\n",
        "        if np.linalg.norm(gradient) < tolerance:\n",
        "            break\n",
        "        k += 1\n",
        "    return sol\n",
        "\n",
        "# Perform gradient descent optimization\n",
        "solution_path = gradient_descent(x0)\n",
        "\n",
        "# Create a function to generate frames for the animation\n",
        "def generate_frames(i):\n",
        "    plt.clf()\n",
        "    plt.contour(X, Y, Z, levels=7, cmap='hot')\n",
        "    plt.plot([point[0] for point in solution_path[:i+1]], [point[1] for point in solution_path[:i+1]], 'b*-')\n",
        "    ax.set_xlabel('X')\n",
        "    ax.set_ylabel('Y')\n",
        "    plt.title(f\"Rastrigin 2D Gradiente explícito Iteración {i}\")\n",
        "    plt.gca().set_aspect('equal', adjustable='box')\n",
        "    return []\n",
        "\n",
        "# Create the animation\n",
        "fig = plt.figure()\n",
        "ani = animation.FuncAnimation(fig, generate_frames, frames=len(solution_path), interval=100, blit=True)\n",
        "\n",
        "# Display the animation\n",
        "HTML(ani.to_jshtml())"
      ],
      "metadata": {
        "id": "IUkaUYWdoXW7"
      },
      "execution_count": null,
      "outputs": []
    },
    {
      "cell_type": "markdown",
      "metadata": {
        "id": "8rv9hm62EdoK"
      },
      "source": [
        "###### **Optimización en dos dimensiones con gradiente numérico**"
      ]
    },
    {
      "cell_type": "markdown",
      "metadata": {
        "id": "yjsb7_lKEdoK"
      },
      "source": [
        "Notemos que el gradiente numerico para R^2 esta definido por la funcion dF."
      ]
    },
    {
      "cell_type": "code",
      "execution_count": null,
      "metadata": {
        "id": "mFacRsejEdoL"
      },
      "outputs": [],
      "source": [
        "dFRas2(x0)"
      ]
    },
    {
      "cell_type": "markdown",
      "metadata": {
        "id": "UwHuwpf7EdoL"
      },
      "source": [
        "A continuación definimos la optimización con gradiente numérico:"
      ]
    },
    {
      "cell_type": "code",
      "execution_count": null,
      "metadata": {
        "id": "cp3yCDKTEdoL"
      },
      "outputs": [],
      "source": [
        "def mi_optimizador_num_dif_ndim(x0, g, lr = 0.001, tol = 0.0000001, max_iter = 100, h= 0.01):\n",
        "  solucion = list()\n",
        "  valor_obj = list()\n",
        "  k = 0\n",
        "  solucion.append(x0)\n",
        "  valor_obj.append(g(x0))\n",
        "  delta_sol = 1\n",
        "  while (delta_sol>tol) and (k<max_iter):\n",
        "    x_new = solucion[k] - lr * dFRas2(solucion[k])\n",
        "    solucion.append(x_new)\n",
        "    valor_obj.append(g(x_new))\n",
        "    k=k+1\n",
        "    delta_sol = np.abs(solucion[k-1] - solucion[k]).max()\n",
        "  return(solucion,valor_obj,k)"
      ]
    },
    {
      "cell_type": "code",
      "execution_count": null,
      "metadata": {
        "id": "xwLpoBOHEdoM"
      },
      "outputs": [],
      "source": [
        "# Optimización numérica con gradiente numérico:\n",
        "sol_ndim_num, f_obj__ndim_num, k_ndim_num = mi_optimizador_num_dif_ndim(x0 = x0, g=FRas2, lr = 0.001, tol = 0.0001)"
      ]
    },
    {
      "cell_type": "markdown",
      "metadata": {
        "id": "DZPVtXCCEdoM"
      },
      "source": [
        "Veamos el resultado:"
      ]
    },
    {
      "cell_type": "code",
      "execution_count": null,
      "metadata": {
        "id": "cLf5rSPwEdoM"
      },
      "outputs": [],
      "source": [
        "fig, ax = plt.subplots()\n",
        "contorno = ax.contour(X,Y,Z, levels = 20, cmap='hot')\n",
        "plt.title(\"Función F\")\n",
        "for i in range(len(sol_ndim_num)):\n",
        "  plt.plot(sol_ndim_num[i][0],sol_ndim_num[i][1],'b*')\n",
        "ax.set_xlabel('X')\n",
        "ax.set_ylabel('Y')\n",
        "# Barra de colores.\n",
        "ax.yaxis.set_major_locator(LinearLocator(5))\n",
        "ax.xaxis.set_major_locator(LinearLocator(5))\n",
        "fig.colorbar(contorno, shrink=0.5, aspect=20)\n",
        "plt.show()"
      ]
    },
    {
      "cell_type": "markdown",
      "source": [
        "4. Animación GIF Rastrigin 2D - Descent Gradient numérico"
      ],
      "metadata": {
        "id": "3n2jCtgFqjKH"
      }
    },
    {
      "cell_type": "code",
      "source": [
        "from IPython.display import HTML\n",
        "import matplotlib\n",
        "matplotlib.rcParams['animation.embed_limit'] = 30\n",
        "\n",
        "# Define the optimization function using gradient descent\n",
        "def gradient_descent(x0, learning_rate=0.001, tolerance=0.0001, max_iterations=100):\n",
        "    sol = [x0]\n",
        "    k = 0\n",
        "    while k < max_iterations:\n",
        "        gradient = dfRas2(*sol[-1])\n",
        "        x_new = sol[-1] - learning_rate * gradient\n",
        "        sol.append(x_new)\n",
        "        if np.linalg.norm(gradient) < tolerance:\n",
        "            break\n",
        "        k += 1\n",
        "    return sol\n",
        "\n",
        "# Perform gradient descent optimization\n",
        "solution_path = gradient_descent(x0)\n",
        "\n",
        "# Create a function to generate frames for the animation\n",
        "def generate_frames(i):\n",
        "    plt.clf()\n",
        "    plt.contour(X, Y, Z, levels=7, cmap='hot')\n",
        "    plt.plot([point[0] for point in solution_path[:i+1]], [point[1] for point in solution_path[:i+1]], 'b*-')\n",
        "    ax.set_xlabel('X')\n",
        "    ax.set_ylabel('Y')\n",
        "    plt.title(f\"Rastrigin 2D Gradiente numérico Iteración {i}\")\n",
        "    plt.gca().set_aspect('equal', adjustable='box')\n",
        "    return []\n",
        "\n",
        "# Create the animation\n",
        "fig = plt.figure()\n",
        "ani = animation.FuncAnimation(fig, generate_frames, frames=len(solution_path), interval=100, blit=True)\n",
        "\n",
        "# Display the animation\n",
        "HTML(ani.to_jshtml())"
      ],
      "metadata": {
        "id": "fFdQ5sVcqfia"
      },
      "execution_count": null,
      "outputs": []
    },
    {
      "cell_type": "markdown",
      "metadata": {
        "id": "vH_13PSpEiRK"
      },
      "source": [
        "##### Función Rastrigin (Rastrigin function) - 3 Dimensiones"
      ]
    },
    {
      "cell_type": "code",
      "execution_count": null,
      "metadata": {
        "id": "zrmT5GZdEiRN"
      },
      "outputs": [],
      "source": [
        "import numpy as np\n",
        "import matplotlib.pyplot as plt\n",
        "from matplotlib import cm\n",
        "from matplotlib.ticker import LinearLocator, FormatStrFormatter\n",
        "from mpl_toolkits.mplot3d import Axes3D\n",
        "\n",
        "fRas3 = lambda x, y, z: 20 + (x**2 - 10 * np.cos(2 * np.pi * x)) + (y**2 - 10 * np.cos(2 * np.pi * y)) + (z**2 - 10 * np.cos(2 * np.pi * z))\n",
        "\n",
        "# Gráfica de la función mi_f\n",
        "\n",
        "ncols = 50\n",
        "nrows = 50\n",
        "nzcols = 50\n",
        "x = np.linspace(-2, 2, ncols)\n",
        "y = np.linspace(-2, 2, nrows)\n",
        "z = np.linspace(-2, 2, nzcols)\n",
        "\n",
        "X, Y, Z = np.meshgrid(x, y, z)\n",
        "W = fRas3(X, Y, Z)\n",
        "\n",
        "# Create a 3D plot\n",
        "fig = plt.figure()\n",
        "ax = fig.add_subplot(111, projection='3d')\n",
        "\n",
        "# Plot the surface\n",
        "surf = ax.plot_surface(X[:,:,0], Y[:,:,0], W[:,:,0], cmap='hot')\n",
        "\n",
        "# Add labels and title\n",
        "ax.set_xlabel('X')\n",
        "ax.set_ylabel('Y')\n",
        "ax.set_zlabel('Rastrigin Function')\n",
        "ax.set_title('Rastrigin Function R^3')\n",
        "\n",
        "# Add a color bar\n",
        "fig.colorbar(surf)\n",
        "\n",
        "# Show the plot\n",
        "plt.show()\n"
      ]
    },
    {
      "cell_type": "markdown",
      "metadata": {
        "id": "b1GYhE1FEiRP"
      },
      "source": [
        "###### **Optimización en dos dimensiones con gradiente explícito**"
      ]
    },
    {
      "cell_type": "code",
      "execution_count": null,
      "metadata": {
        "id": "XuSOcDSREiRQ"
      },
      "outputs": [],
      "source": [
        "# Función gradiente\n",
        "dfRas3 = lambda x,y,z: np.array([2 * x + 20 * np.pi * np.sin(2 * np.pi * x), 2 * y + 20 * np.pi * np.sin(2 * np.pi * y), 2 * z + 20 * np.pi * np.sin(2 * np.pi * z)])"
      ]
    },
    {
      "cell_type": "code",
      "execution_count": null,
      "metadata": {
        "id": "_x1NYXJjEiRR"
      },
      "outputs": [],
      "source": [
        "FRas3 = lambda X: fRas3(X[0],X[1],X[2])\n",
        "dFRas3 = lambda X: dfRas3(X[0],X[1],X[2])"
      ]
    },
    {
      "cell_type": "markdown",
      "metadata": {
        "id": "yhapsdXpEiRS"
      },
      "source": [
        "**Condicion inicial aleatoria**"
      ]
    },
    {
      "cell_type": "code",
      "execution_count": null,
      "metadata": {
        "id": "pjJYW5B4EiRS"
      },
      "outputs": [],
      "source": [
        "x0 = np.random.rand(3)\n",
        "print(x0)\n",
        "print(FRas3(x0))\n",
        "print(dFRas3(x0))"
      ]
    },
    {
      "cell_type": "markdown",
      "metadata": {
        "id": "0fOQNfa3EiRT"
      },
      "source": [
        "Ahora definiremos el método de optimización multivariado. Observemos que tiene muy pocas modificaciones respecto a la función que habíamos definido previamente."
      ]
    },
    {
      "cell_type": "code",
      "execution_count": null,
      "metadata": {
        "id": "1_v-ozGpEiRU"
      },
      "outputs": [],
      "source": [
        "def mi_optimizador_ndim(x0, g, g1p, lr = 0.001, tol = 0.0000001, max_iter = 100):\n",
        "  solucion = list()\n",
        "  valor_obj = list()\n",
        "  k = 0\n",
        "  solucion.append(x0)\n",
        "  valor_obj.append(g(x0))\n",
        "  delta_sol = 1\n",
        "  while (delta_sol>tol) and (k<max_iter):\n",
        "    x_new = solucion[k] - lr * g1p(solucion[k])\n",
        "    solucion.append(x_new)\n",
        "    valor_obj.append(g(x_new))\n",
        "    k=k+1\n",
        "    delta_sol = np.abs(solucion[k-1] - solucion[k]).max()\n",
        "  return(solucion,valor_obj,k)"
      ]
    },
    {
      "cell_type": "markdown",
      "metadata": {
        "id": "WHpikFSoEiRV"
      },
      "source": [
        "Ahora llevemos a cabo la optimización numérica con el gradiente explícito."
      ]
    },
    {
      "cell_type": "code",
      "execution_count": null,
      "metadata": {
        "id": "dndmylO9EiRV"
      },
      "outputs": [],
      "source": [
        "# Optimización numérica con gradiente explícito:\n",
        "sol, f_obj, k = mi_optimizador_ndim(x0 = x0, g=FRas3, g1p=dFRas3, lr = 0.001, tol = 0.0001)"
      ]
    },
    {
      "cell_type": "markdown",
      "metadata": {
        "id": "HE-tz_0DEiRX"
      },
      "source": [
        "Veamos el resultado:"
      ]
    },
    {
      "cell_type": "code",
      "execution_count": null,
      "metadata": {
        "id": "OB6Fqvn5EiRX"
      },
      "outputs": [],
      "source": [
        "# Plot the surface\n",
        "fig = plt.figure()\n",
        "ax = fig.add_subplot(111, projection='3d')\n",
        "surf = ax.plot_surface(X[:,:,0], Y[:,:,0], W[:,:,0], cmap='hot', alpha=0.7)\n",
        "\n",
        "# Set view to top-down\n",
        "ax.view_init(elev=90, azim=0)\n",
        "\n",
        "# Plot contours\n",
        "contour = ax.contour(X[:,:,0], Y[:,:,0], W[:,:,0], levels=1, cmap='hot')\n",
        "\n",
        "# Plot solution points (if sol is defined)\n",
        "for point in sol:\n",
        "    ax.plot([point[0]], [point[1]], [point[2]], 'b*')\n",
        "\n",
        "# Add labels and title\n",
        "ax.set_xlabel('X')\n",
        "ax.set_ylabel('Y')\n",
        "ax.set_zlabel('Z')\n",
        "ax.set_title('Rastrigin Function R^3')\n",
        "\n",
        "# Add color bar\n",
        "fig.colorbar(surf, shrink=0.5, aspect=5)\n",
        "\n",
        "# Set locator for major ticks\n",
        "ax.xaxis.set_major_locator(LinearLocator(5))\n",
        "ax.yaxis.set_major_locator(LinearLocator(5))\n",
        "ax.zaxis.set_major_locator(LinearLocator(5))\n",
        "\n",
        "# Show the plot\n",
        "plt.show()"
      ]
    },
    {
      "cell_type": "markdown",
      "source": [
        "4. Animación GIF Rastrigin 3D - Descent Gradient explícito"
      ],
      "metadata": {
        "id": "8rcfiFTvr_iD"
      }
    },
    {
      "cell_type": "code",
      "source": [
        "from IPython.display import HTML\n",
        "import matplotlib\n",
        "matplotlib.rcParams['animation.embed_limit'] = 30\n",
        "\n",
        "# Define the optimization function using gradient descent\n",
        "def gradient_descent(x0, learning_rate=0.001, tolerance=0.0001, max_iterations=100):\n",
        "    sol = [x0]\n",
        "    k = 0\n",
        "    while k < max_iterations:\n",
        "        gradient = dfRas3(*sol[-1])\n",
        "        x_new = sol[-1] - learning_rate * gradient\n",
        "        sol.append(x_new)\n",
        "        if np.linalg.norm(gradient) < tolerance:\n",
        "            break\n",
        "        k += 1\n",
        "    return sol\n",
        "\n",
        "# Perform gradient descent optimization\n",
        "solution_path = gradient_descent(x0)\n",
        "\n",
        "# Create a function to generate frames for the animation\n",
        "def generate_frames(i):\n",
        "    plt.clf()\n",
        "    ax = plt.axes(projection='3d')\n",
        "    ax.contour3D(X[:,:,0], Y[:,:,0], W[:,:,0], 7, cmap='hot')\n",
        "    x_vals = [point[0] for point in solution_path[:i+1]]\n",
        "    y_vals = [point[1] for point in solution_path[:i+1]]\n",
        "    z_vals = [fRos3(*point) for point in solution_path[:i+1]]\n",
        "    ax.plot3D(x_vals, y_vals, z_vals, 'b*-')\n",
        "    ax.set_xlabel('X')\n",
        "    ax.set_ylabel('Y')\n",
        "    ax.set_zlabel('Z')\n",
        "    ax.set_title(f\"Rastrigon 3D Gradient Descent explícito Iteración {i}\")\n",
        "    ax.view_init(elev=90, azim=0)  # Rotate the figure\n",
        "    return []\n",
        "\n",
        "# Create the figure and axis\n",
        "fig = plt.figure()\n",
        "ax = fig.add_subplot(111, projection='3d')\n",
        "\n",
        "# Set up the initial view\n",
        "ax.view_init(elev=30, azim=0)\n",
        "\n",
        "# Create the animation\n",
        "ani = FuncAnimation(fig, generate_frames, frames=len(solution_path), interval=100, blit=False)\n",
        "\n",
        "# Display the animation\n",
        "HTML(ani.to_jshtml())"
      ],
      "metadata": {
        "id": "3QJHTlizr-sK"
      },
      "execution_count": null,
      "outputs": []
    },
    {
      "cell_type": "markdown",
      "metadata": {
        "id": "zyRhXWCgEiRX"
      },
      "source": [
        "###### **Optimización en dos dimensiones con gradiente numérico**"
      ]
    },
    {
      "cell_type": "markdown",
      "metadata": {
        "id": "pOa7Ev0pEiRY"
      },
      "source": [
        "Notemos que el gradiente numerico para R^3 esta definido por la funcion dF3."
      ]
    },
    {
      "cell_type": "code",
      "execution_count": null,
      "metadata": {
        "id": "AOsmflKJEiRY"
      },
      "outputs": [],
      "source": [
        "dFRas3(x0)"
      ]
    },
    {
      "cell_type": "markdown",
      "metadata": {
        "id": "vYBbq7rAEiRY"
      },
      "source": [
        "A continuación definimos la optimización con gradiente numérico:"
      ]
    },
    {
      "cell_type": "code",
      "execution_count": null,
      "metadata": {
        "id": "cQ0JTAEUEiRZ"
      },
      "outputs": [],
      "source": [
        "def mi_optimizador_num_dif_ndim(x0, g, lr = 0.001, tol = 0.0000001, max_iter = 100, h= 0.01):\n",
        "  solucion = list()\n",
        "  valor_obj = list()\n",
        "  k = 0\n",
        "  solucion.append(x0)\n",
        "  valor_obj.append(g(x0))\n",
        "  delta_sol = 1\n",
        "  while (delta_sol>tol) and (k<max_iter):\n",
        "    x_new = solucion[k] - lr * dFRas3(solucion[k])\n",
        "    solucion.append(x_new)\n",
        "    valor_obj.append(g(x_new))\n",
        "    k=k+1\n",
        "    delta_sol = np.abs(solucion[k-1] - solucion[k]).max()\n",
        "  return(solucion,valor_obj,k)"
      ]
    },
    {
      "cell_type": "code",
      "execution_count": null,
      "metadata": {
        "id": "Fo4k9rchEiRZ"
      },
      "outputs": [],
      "source": [
        "# Optimización numérica con gradiente numérico:\n",
        "sol_ndim_num, f_obj__ndim_num, k_ndim_num = mi_optimizador_num_dif_ndim(x0 = x0, g=FRas3, lr = 0.001, tol = 0.0001)"
      ]
    },
    {
      "cell_type": "markdown",
      "metadata": {
        "id": "kPERwGAMEiRa"
      },
      "source": [
        "Veamos el resultado:"
      ]
    },
    {
      "cell_type": "code",
      "execution_count": null,
      "metadata": {
        "id": "a1fMGnihEiRa"
      },
      "outputs": [],
      "source": [
        "# Plot the surface\n",
        "fig = plt.figure()\n",
        "ax = fig.add_subplot(111, projection='3d')\n",
        "surf = ax.plot_surface(X[:,:,0], Y[:,:,0], W[:,:,0], cmap='hot', alpha=0.7)\n",
        "\n",
        "# Set view to top-down\n",
        "ax.view_init(elev=90, azim=0)\n",
        "\n",
        "# Plot contours\n",
        "contour = ax.contour(X[:,:,0], Y[:,:,0], W[:,:,0], levels=1, cmap='hot')\n",
        "\n",
        "# Plot solution points (if sol is defined)\n",
        "for point in sol:\n",
        "    ax.plot([point[0]], [point[1]], [point[2]], 'b*')\n",
        "\n",
        "# Add labels and title\n",
        "ax.set_xlabel('X')\n",
        "ax.set_ylabel('Y')\n",
        "ax.set_zlabel('Z')\n",
        "ax.set_title('Rastrigin Function R^3')\n",
        "\n",
        "# Add color bar\n",
        "fig.colorbar(surf, shrink=0.5, aspect=5)\n",
        "\n",
        "# Set locator for major ticks\n",
        "ax.xaxis.set_major_locator(LinearLocator(5))\n",
        "ax.yaxis.set_major_locator(LinearLocator(5))\n",
        "ax.zaxis.set_major_locator(LinearLocator(5))\n",
        "\n",
        "# Show the plot\n",
        "plt.show()"
      ]
    },
    {
      "cell_type": "markdown",
      "source": [
        "4. Animación GIF Rastrigin 3D - Descent Gradient numérico"
      ],
      "metadata": {
        "id": "lX8myu5_shrp"
      }
    },
    {
      "cell_type": "code",
      "source": [
        "from IPython.display import HTML\n",
        "import matplotlib\n",
        "matplotlib.rcParams['animation.embed_limit'] = 30\n",
        "\n",
        "# Define the optimization function using gradient descent\n",
        "def gradient_descent(x0, learning_rate=0.001, tolerance=0.0001, max_iterations=100):\n",
        "    sol = [x0]\n",
        "    k = 0\n",
        "    while k < max_iterations:\n",
        "        gradient = dfRas3(*sol[-1])\n",
        "        x_new = sol[-1] - learning_rate * gradient\n",
        "        sol.append(x_new)\n",
        "        if np.linalg.norm(gradient) < tolerance:\n",
        "            break\n",
        "        k += 1\n",
        "    return sol\n",
        "\n",
        "# Perform gradient descent optimization\n",
        "solution_path = gradient_descent(x0)\n",
        "\n",
        "# Create a function to generate frames for the animation\n",
        "def generate_frames(i):\n",
        "    plt.clf()\n",
        "    ax = plt.axes(projection='3d')\n",
        "    ax.contour3D(X[:,:,0], Y[:,:,0], W[:,:,0], 7, cmap='hot')\n",
        "    x_vals = [point[0] for point in solution_path[:i+1]]\n",
        "    y_vals = [point[1] for point in solution_path[:i+1]]\n",
        "    z_vals = [fRos3(*point) for point in solution_path[:i+1]]\n",
        "    ax.plot3D(x_vals, y_vals, z_vals, 'b*-')\n",
        "    ax.set_xlabel('X')\n",
        "    ax.set_ylabel('Y')\n",
        "    ax.set_zlabel('Z')\n",
        "    ax.set_title(f\"Rastrigon 3D Gradient Descent numérico Iteración {i}\")\n",
        "    ax.view_init(elev=90, azim=0)  # Rotate the figure\n",
        "    return []\n",
        "\n",
        "# Create the figure and axis\n",
        "fig = plt.figure()\n",
        "ax = fig.add_subplot(111, projection='3d')\n",
        "\n",
        "# Set up the initial view\n",
        "ax.view_init(elev=30, azim=0)\n",
        "\n",
        "# Create the animation\n",
        "ani = FuncAnimation(fig, generate_frames, frames=len(solution_path), interval=100, blit=False)\n",
        "\n",
        "# Display the animation\n",
        "HTML(ani.to_jshtml())"
      ],
      "metadata": {
        "id": "Fi_tN2hXseHp"
      },
      "execution_count": null,
      "outputs": []
    },
    {
      "cell_type": "markdown",
      "metadata": {
        "id": "sElk5MHK9Piq"
      },
      "source": [
        "### 3. Optimice las funciones en dos y tres dimensiones usando: Algoritmos evolutivos, optimización de partículas y evolución diferencial."
      ]
    },
    {
      "cell_type": "markdown",
      "metadata": {
        "id": "aUy1GskKssh1"
      },
      "source": [
        "#### Optimización de funciones de prueba - Método de algoritmos evolutivos PyGAD"
      ]
    },
    {
      "cell_type": "markdown",
      "metadata": {
        "id": "wAeGwSJetYON"
      },
      "source": [
        "##### Función Rosenbrock (Rosenbrock function) - 2 Dimensiones"
      ]
    },
    {
      "cell_type": "markdown",
      "metadata": {
        "id": "H1V8CdPOu9SJ"
      },
      "source": [
        "A continuación se presenta la optimización de la función `FRos2` usando el modulo PyGAD."
      ]
    },
    {
      "cell_type": "code",
      "execution_count": null,
      "metadata": {
        "id": "mbkFKWC7xddY"
      },
      "outputs": [],
      "source": [
        "fRos2 = lambda x,y: np.array([(x - 1)**2 + 100*(y - x**2)**2])\n",
        "\n",
        "# Gráfica de la función mi_f\n",
        "\n",
        "ncols = 50\n",
        "nrows = 50\n",
        "x = np.linspace(-2, 2, ncols)\n",
        "y = np.linspace(-1, 3, nrows)\n",
        "X, Y = np.meshgrid(x, y)\n",
        "Z = fRos2(X, Y)\n",
        "Z = np.array(Z).reshape([nrows,ncols])\n",
        "\n",
        "# Función gradiente\n",
        "dfRos2 = lambda x,y: np.array([2*(x-1) - 4*100*(y - x**2)*x, 2*100*(y-x**2)])\n",
        "\n",
        "FRos2 = lambda X: fRos2(X[0],X[1])\n",
        "dFRos2 = lambda X: dfRos2(X[0],X[1])"
      ]
    },
    {
      "cell_type": "code",
      "execution_count": null,
      "metadata": {
        "id": "Q-r4bWXtu-FX"
      },
      "outputs": [],
      "source": [
        "# Instalación de PyGAD\n",
        "!pip install pygad"
      ]
    },
    {
      "cell_type": "code",
      "execution_count": null,
      "metadata": {
        "id": "ZaKWcGwGvAwA"
      },
      "outputs": [],
      "source": [
        "import pygad"
      ]
    },
    {
      "cell_type": "markdown",
      "metadata": {
        "id": "OfDhYJQSvERa"
      },
      "source": [
        "\n",
        "\n",
        "Para usar PyGAD la función de fitness debe incorporar tres argumentos:\n",
        "\n",
        "1. La instancia de pygad.GA que contiene los parámetros de la optimización.\n",
        "2. La solución candidata, x.\n",
        "3. El índice de la solución candidata dentro de la población.\n",
        "\n",
        "Los argumentos 1 y 3 son necesarios para aprovechar las capacidades del algoritmo para almacenar y operar internamente con las soluciones.\n"
      ]
    },
    {
      "cell_type": "code",
      "execution_count": null,
      "metadata": {
        "id": "hrvr52yTvWti"
      },
      "outputs": [],
      "source": [
        "def mi_f_fitness(ga_instance,solution,solution_idx):\n",
        "  y = -FRos2(solution)\n",
        "  #print(solution)\n",
        "  return(y)"
      ]
    },
    {
      "cell_type": "markdown",
      "metadata": {
        "id": "tQyM4Gs9vgAc"
      },
      "source": [
        "Ahora se define ga_instancia que contiene todos los parámetros del algoritmo evolutivo:"
      ]
    },
    {
      "cell_type": "code",
      "execution_count": null,
      "metadata": {
        "id": "IPMGQJHEvhWf"
      },
      "outputs": [],
      "source": [
        "fitness_function = mi_f_fitness\n",
        "\n",
        "num_generations = 50\n",
        "num_parents_mating = 2\n",
        "\n",
        "sol_per_pop = 10\n",
        "num_genes = 2\n",
        "\n",
        "init_range_low = -10.0\n",
        "init_range_high = 10.0\n",
        "\n",
        "parent_selection_type = \"sss\"\n",
        "keep_parents = 1\n",
        "\n",
        "crossover_type = \"single_point\"\n",
        "\n",
        "mutation_type = \"random\"\n",
        "mutation_percent_genes = 10"
      ]
    },
    {
      "cell_type": "code",
      "execution_count": null,
      "metadata": {
        "id": "lnA5v0G4vjD2"
      },
      "outputs": [],
      "source": [
        "ga_instanciaRos2 = pygad.GA(num_generations=num_generations,\n",
        "                       num_parents_mating=num_parents_mating,\n",
        "                       fitness_func=fitness_function,\n",
        "                       sol_per_pop=sol_per_pop,\n",
        "                       num_genes=num_genes,\n",
        "                       init_range_low=init_range_low,\n",
        "                       init_range_high=init_range_high,\n",
        "                       gene_space = {'low': -1.0, 'high': 1.0},\n",
        "                       parent_selection_type=parent_selection_type,\n",
        "                       keep_parents=keep_parents,\n",
        "                       crossover_type=crossover_type,\n",
        "                       mutation_type=mutation_type,\n",
        "                       mutation_percent_genes=mutation_percent_genes,\n",
        "                       save_solutions=True)"
      ]
    },
    {
      "cell_type": "markdown",
      "metadata": {
        "id": "mtYaiXQKvq1T"
      },
      "source": [
        "A continuación se ejecuta la optimización:"
      ]
    },
    {
      "cell_type": "code",
      "execution_count": null,
      "metadata": {
        "id": "dmPtrQHavsgj"
      },
      "outputs": [],
      "source": [
        "ga_instanciaRos2.run()"
      ]
    },
    {
      "cell_type": "markdown",
      "metadata": {
        "id": "dBHtrLgewK0v"
      },
      "source": [
        "Veamos los resultados:"
      ]
    },
    {
      "cell_type": "code",
      "execution_count": null,
      "metadata": {
        "id": "t4HTcJlSwMpM"
      },
      "outputs": [],
      "source": [
        "solution, solution_fitness, solution_idx = ga_instanciaRos2.best_solution()\n",
        "print(\"Mejor solución : {solution}\".format(solution=solution))\n",
        "print(\"Valor de la función objetivo = {solution_fitness}\".format(solution_fitness=solution_fitness))\n",
        "print(\"Posición de la mejor solución = {solution_idx}\".format(solution_idx=solution_idx))"
      ]
    },
    {
      "cell_type": "code",
      "execution_count": null,
      "metadata": {
        "id": "RutA3TaAwPH2"
      },
      "outputs": [],
      "source": [
        "ga_instanciaRos2.plot_fitness()"
      ]
    },
    {
      "cell_type": "code",
      "execution_count": null,
      "metadata": {
        "id": "rqjSGe1nxGJp"
      },
      "outputs": [],
      "source": [
        "ga_instanciaRos2.plot_genes(graph_type='histogram')"
      ]
    },
    {
      "cell_type": "code",
      "execution_count": null,
      "metadata": {
        "id": "mKhrAP_ExKfz"
      },
      "outputs": [],
      "source": [
        "Pob = ga_instanciaRos2.solutions"
      ]
    },
    {
      "cell_type": "code",
      "execution_count": null,
      "metadata": {
        "id": "lgH9JYnDxLac"
      },
      "outputs": [],
      "source": [
        "len(Pob)"
      ]
    },
    {
      "cell_type": "code",
      "execution_count": null,
      "metadata": {
        "id": "pwpET8k1xO2C"
      },
      "outputs": [],
      "source": [
        "for j in range(num_generations+1):\n",
        "    Pob = np.array(ga_instanciaRos2.solutions[j*sol_per_pop:(j+1)*sol_per_pop])\n",
        "    fig, ax = plt.subplots()\n",
        "    ax.contour(X,Y,Z, levels = 50)\n",
        "    ax.scatter(Pob[:,0],Pob[:,1])\n",
        "    plt.title(\"Función FRos2() Generación \" + str(j))\n",
        "    plt.show()"
      ]
    },
    {
      "cell_type": "markdown",
      "metadata": {
        "id": "Ye5yFBowycPF"
      },
      "source": [
        "###### Animación de la evolución\n",
        "\n",
        "Ahora creemos una animación:"
      ]
    },
    {
      "cell_type": "code",
      "execution_count": null,
      "metadata": {
        "id": "eva2JsTwyhnt"
      },
      "outputs": [],
      "source": [
        "%matplotlib inline"
      ]
    },
    {
      "cell_type": "code",
      "execution_count": null,
      "metadata": {
        "id": "XyHtINHKyinE"
      },
      "outputs": [],
      "source": [
        "from matplotlib import animation, rc\n",
        "from IPython.display import HTML"
      ]
    },
    {
      "cell_type": "code",
      "execution_count": null,
      "metadata": {
        "id": "6dA0B-0-ykA3"
      },
      "outputs": [],
      "source": [
        "fig, ax = plt.subplots()\n",
        "\n",
        "ax.set_xlim(( -1, 1))\n",
        "ax.set_ylim((-1, 1))\n",
        "ax.contour(X,Y,Z, levels = 50)\n",
        "scatter, = ax.plot([], [], '*')"
      ]
    },
    {
      "cell_type": "code",
      "execution_count": null,
      "metadata": {
        "id": "9BM58Yf9yq0W"
      },
      "outputs": [],
      "source": [
        "# initialization function: plot the background of each frame\n",
        "def init():\n",
        "    scatter.set_data([], [])\n",
        "    return (scatter,)"
      ]
    },
    {
      "cell_type": "code",
      "execution_count": null,
      "metadata": {
        "id": "K5YwFjSJysxX"
      },
      "outputs": [],
      "source": [
        "# animation function. This is called sequentially\n",
        "def animate(i):\n",
        "    Pob = np.array(ga_instanciaRos2.solutions[i*sol_per_pop:(i+1)*sol_per_pop])\n",
        "    scatter.set_data(Pob[:,0],Pob[:,1])\n",
        "    return (scatter,)"
      ]
    },
    {
      "cell_type": "code",
      "execution_count": null,
      "metadata": {
        "id": "nNti10j1yt0A"
      },
      "outputs": [],
      "source": [
        "# call the animator. blit=True means only re-draw the parts that have changed.\n",
        "anim = animation.FuncAnimation(fig, animate, init_func=init,\n",
        "                               frames=50, interval=500, blit=True)"
      ]
    },
    {
      "cell_type": "code",
      "execution_count": null,
      "metadata": {
        "id": "xEsCyRq5yu1a"
      },
      "outputs": [],
      "source": [
        "HTML(anim.to_html5_video())"
      ]
    },
    {
      "cell_type": "markdown",
      "metadata": {
        "id": "JqWH90eCtiQ0"
      },
      "source": [
        "##### Función Rosenbrock (Rosenbrock function) - 3 Dimensiones"
      ]
    },
    {
      "cell_type": "markdown",
      "metadata": {
        "id": "-D5zb2_HzniV"
      },
      "source": [
        "A continuación se presenta la optimización de la función `FRos3` usando el modulo PyGAD."
      ]
    },
    {
      "cell_type": "code",
      "execution_count": null,
      "metadata": {
        "id": "qvsxz4j9zaH6"
      },
      "outputs": [],
      "source": [
        "import numpy as np\n",
        "import matplotlib.pyplot as plt\n",
        "from matplotlib import cm\n",
        "from matplotlib.ticker import LinearLocator, FormatStrFormatter\n",
        "from mpl_toolkits.mplot3d import Axes3D\n",
        "\n",
        "fRos3 = lambda x, y, z: (x - 1)**2 + 100*(y - x**2)**2 + (1 - y)**2 + 100*(z - y**2)**2\n",
        "\n",
        "# Gráfica de la función\n",
        "\n",
        "ncols = 50\n",
        "nrows = 50\n",
        "nzcols = 50\n",
        "x = np.linspace(-1, 1, ncols)\n",
        "y = np.linspace(-1, 1, nrows)\n",
        "z = np.linspace(-1, 1, nzcols)\n",
        "\n",
        "X, Y, Z = np.meshgrid(x, y, z)\n",
        "W = fRos3(X, Y, Z)\n",
        "\n",
        "# Función gradiente\n",
        "dfRos3 = lambda x,y,z: np.array([2*(x-1) - 4*100*(y - x**2)*x, 200*(y-x**2) - 2*(1-y)-400*(y**2 - z), 200*(z-y**2)])\n",
        "\n",
        "FRos3 = lambda X: fRos3(X[0],X[1],X[2])\n",
        "dFRos3 = lambda X: dfRos3(X[0],X[1],X[2])\n"
      ]
    },
    {
      "cell_type": "markdown",
      "metadata": {
        "id": "fxzPjxuvz7lW"
      },
      "source": [
        "Para usar PyGAD la función de fitness debe incorporar tres argumentos:\n",
        "\n",
        "1. La instancia de `pygad.GA` que contiene los parámetros de la optimización.\n",
        "2. La solución candidata, $x$\n",
        "3. El índice de la solución candidata dentro de la población.\n",
        "\n",
        "Los argumentos 1 y 3 son necesarios para aprovechar las capacidades del algoritmo para almacenar y operar internamente con las soluciones.\n"
      ]
    },
    {
      "cell_type": "code",
      "execution_count": null,
      "metadata": {
        "id": "8E5KjOu2z81-"
      },
      "outputs": [],
      "source": [
        "def mi_f_fitness(ga_instance,solution,solution_idx):\n",
        "  y = -FRos3(solution)\n",
        "  print(solution)\n",
        "  return(y)"
      ]
    },
    {
      "cell_type": "markdown",
      "metadata": {
        "id": "FccKVPTO0CjB"
      },
      "source": [
        "Ahora se define `ga_instancia` que contiene todos los parámetros del algoritmo evolutivo:"
      ]
    },
    {
      "cell_type": "code",
      "execution_count": null,
      "metadata": {
        "id": "09yc1h_-0Dy0"
      },
      "outputs": [],
      "source": [
        "fitness_function = mi_f_fitness\n",
        "\n",
        "num_generations = 50\n",
        "num_parents_mating = 2\n",
        "\n",
        "sol_per_pop = 10\n",
        "num_genes = 3\n",
        "\n",
        "init_range_low = -10.0\n",
        "init_range_high = 10.0\n",
        "\n",
        "parent_selection_type = \"sss\"\n",
        "keep_parents = 1\n",
        "\n",
        "crossover_type = \"single_point\"\n",
        "\n",
        "mutation_type = \"random\"\n",
        "mutation_percent_genes = 10"
      ]
    },
    {
      "cell_type": "code",
      "execution_count": null,
      "metadata": {
        "id": "SmgtVAUf0FZE"
      },
      "outputs": [],
      "source": [
        "ga_instanciaRos3 = pygad.GA(num_generations=num_generations,\n",
        "                       num_parents_mating=num_parents_mating,\n",
        "                       fitness_func=fitness_function,\n",
        "                       sol_per_pop=sol_per_pop,\n",
        "                       num_genes=num_genes,\n",
        "                       init_range_low=init_range_low,\n",
        "                       init_range_high=init_range_high,\n",
        "                       gene_space = {'low': -1.0, 'high': 1.0},\n",
        "                       parent_selection_type=parent_selection_type,\n",
        "                       keep_parents=keep_parents,\n",
        "                       crossover_type=crossover_type,\n",
        "                       mutation_type=mutation_type,\n",
        "                       mutation_percent_genes=mutation_percent_genes,\n",
        "                       save_solutions=True)"
      ]
    },
    {
      "cell_type": "markdown",
      "metadata": {
        "id": "1wiPO3J40NkZ"
      },
      "source": [
        "A continuación se ejecuta la optimización:"
      ]
    },
    {
      "cell_type": "code",
      "execution_count": null,
      "metadata": {
        "id": "bHr-vRNJ0Lqt"
      },
      "outputs": [],
      "source": [
        "ga_instanciaRos3.run()"
      ]
    },
    {
      "cell_type": "markdown",
      "metadata": {
        "id": "GPdeLaIW49P_"
      },
      "source": [
        "Veamos los resultados:"
      ]
    },
    {
      "cell_type": "code",
      "execution_count": null,
      "metadata": {
        "id": "Br-eXNE14-do"
      },
      "outputs": [],
      "source": [
        "solution, solution_fitness, solution_idx = ga_instanciaRos3.best_solution()\n",
        "print(\"Mejor solución : {solution}\".format(solution=solution))\n",
        "print(\"Valor de la función objetivo = {solution_fitness}\".format(solution_fitness=solution_fitness))\n",
        "print(\"Posición de la mejor solución = {solution_idx}\".format(solution_idx=solution_idx))"
      ]
    },
    {
      "cell_type": "code",
      "execution_count": null,
      "metadata": {
        "id": "iL2VJBSi5FH7"
      },
      "outputs": [],
      "source": [
        "ga_instanciaRos3.plot_fitness()"
      ]
    },
    {
      "cell_type": "code",
      "execution_count": null,
      "metadata": {
        "id": "_qmQaZiB5JpG"
      },
      "outputs": [],
      "source": [
        "ga_instanciaRos3.plot_genes(graph_type='histogram')"
      ]
    },
    {
      "cell_type": "code",
      "execution_count": null,
      "metadata": {
        "id": "VpqE5C-e5O9L"
      },
      "outputs": [],
      "source": [
        "Pob = ga_instanciaRos3.solutions"
      ]
    },
    {
      "cell_type": "code",
      "execution_count": null,
      "metadata": {
        "id": "2vzY86-G5PvU"
      },
      "outputs": [],
      "source": [
        "len(Pob)"
      ]
    },
    {
      "cell_type": "code",
      "execution_count": null,
      "metadata": {
        "id": "94NgB36a5TrB"
      },
      "outputs": [],
      "source": [
        "for j in range(num_generations+1):\n",
        "    Pob = np.array(ga_instanciaRos3.solutions[j*sol_per_pop:(j+1)*sol_per_pop])\n",
        "    fig, ax = plt.subplots()\n",
        "    ax.contour(X[:,:,0], Y[:,:,0], W[:,:,0], levels=50)\n",
        "    ax.scatter(Pob[:, 0], Pob[:, 1], Pob[:, 2], c = 'b')\n",
        "    plt.title(\"Función Ros3 Generación \" + str(j))\n",
        "    plt.show()"
      ]
    },
    {
      "cell_type": "markdown",
      "metadata": {
        "id": "EDpGAyYzmO5z"
      },
      "source": [
        "###### Animación de la evolución\n",
        "\n",
        "Ahora creemos una animación:"
      ]
    },
    {
      "cell_type": "code",
      "source": [
        "from mpl_toolkits.mplot3d.art3d import Path3DCollection\n",
        "# animation function. This is called sequentially\n",
        "fig = plt.figure()\n",
        "ax = fig.add_subplot(111, projection='3d')\n",
        "\n",
        "ax.set_xlim(( -1, 1))\n",
        "ax.set_ylim((-1, 1))\n",
        "ax.set_zlim((0, 40))\n",
        "ax.set_xlabel('X')\n",
        "ax.set_ylabel('Y')\n",
        "ax.set_zlabel('Z')\n",
        "ax.view_init(elev=90, azim=0)\n",
        "ax.contour3D(X[:,:,0], Y[:,:,0], W[:,:,0], levels=7)\n",
        "\n",
        "# Initialize the scatter plot outside the animate function\n",
        "scatter = ax.scatter([], [], [], s=100, c='b', marker='*')\n",
        "\n",
        "def animate(i):\n",
        "    # Update the offsets and sizes of the scatter plot for each frame\n",
        "    Pob = np.array(ga_instanciaRos3.solutions[i*sol_per_pop:(i+1)*sol_per_pop])\n",
        "    scatter._offsets3d = (Pob[:,0], Pob[:,1], Pob[:,2])\n",
        "    scatter._sizes = np.full_like(Pob[:,0], 100)  # Adjust the size as needed\n",
        "    return (scatter,)\n",
        "\n",
        "# call the animator. blit=True means only re-draw the parts that have changed.\n",
        "anim = animation.FuncAnimation(fig, animate, frames=50, interval=500, blit=True)\n",
        "\n",
        "HTML(anim.to_html5_video())"
      ],
      "metadata": {
        "id": "k-iTO-ubBquU"
      },
      "execution_count": null,
      "outputs": []
    },
    {
      "cell_type": "markdown",
      "metadata": {
        "id": "voMe9FBUtiWs"
      },
      "source": [
        "##### Función Rastrigin (Rastrigin function) - 2 Dimensiones"
      ]
    },
    {
      "cell_type": "code",
      "source": [
        "fRas2 = lambda x,y: np.array([20 + (x**2 - 10 * np.cos(2 * np.pi * x)) + (y**2 - 10 * np.cos(2 * np.pi * y))\n",
        "])\n",
        "\n",
        "# Gráfica de la función f\n",
        "\n",
        "ncols = 50\n",
        "nrows = 50\n",
        "x = np.linspace(-2, 2, ncols)\n",
        "y = np.linspace(-1, 3, nrows)\n",
        "X, Y = np.meshgrid(x, y)\n",
        "Z = fRas2(X, Y)\n",
        "Z = np.array(Z).reshape([nrows,ncols])\n",
        "\n",
        "# Función gradiente\n",
        "dfRas2 = lambda x,y: np.array([2 * x + 20 * np.pi * np.sin(2 * np.pi * x), 2 * y + 20 * np.pi * np.sin(2 * np.pi * y)])\n",
        "\n",
        "FRas2 = lambda X: fRas2(X[0],X[1])\n",
        "dFRas2 = lambda X: dfRas2(X[0],X[1])"
      ],
      "metadata": {
        "id": "Lu4gQ8nzkDWh"
      },
      "execution_count": null,
      "outputs": []
    },
    {
      "cell_type": "code",
      "source": [
        "def mi_f_fitness(ga_instance,solution,solution_idx):\n",
        "  y = -FRas2(solution)\n",
        "  #print(solution)\n",
        "  return(y)"
      ],
      "metadata": {
        "id": "0XoD5VGUkQPT"
      },
      "execution_count": null,
      "outputs": []
    },
    {
      "cell_type": "code",
      "source": [
        "fitness_function = mi_f_fitness\n",
        "\n",
        "num_generations = 50\n",
        "num_parents_mating = 2\n",
        "\n",
        "sol_per_pop = 10\n",
        "num_genes = 2\n",
        "\n",
        "init_range_low = -10.0\n",
        "init_range_high = 10.0\n",
        "\n",
        "parent_selection_type = \"sss\"\n",
        "keep_parents = 1\n",
        "\n",
        "crossover_type = \"single_point\"\n",
        "\n",
        "mutation_type = \"random\"\n",
        "mutation_percent_genes = 10"
      ],
      "metadata": {
        "id": "ayg_EfWgkRH3"
      },
      "execution_count": null,
      "outputs": []
    },
    {
      "cell_type": "code",
      "source": [
        "ga_instanciaRas2 = pygad.GA(num_generations=num_generations,\n",
        "                       num_parents_mating=num_parents_mating,\n",
        "                       fitness_func=fitness_function,\n",
        "                       sol_per_pop=sol_per_pop,\n",
        "                       num_genes=num_genes,\n",
        "                       init_range_low=init_range_low,\n",
        "                       init_range_high=init_range_high,\n",
        "                       gene_space = {'low': -1.0, 'high': 1.0},\n",
        "                       parent_selection_type=parent_selection_type,\n",
        "                       keep_parents=keep_parents,\n",
        "                       crossover_type=crossover_type,\n",
        "                       mutation_type=mutation_type,\n",
        "                       mutation_percent_genes=mutation_percent_genes,\n",
        "                       save_solutions=True)"
      ],
      "metadata": {
        "id": "N_6HNyyPkSTM"
      },
      "execution_count": null,
      "outputs": []
    },
    {
      "cell_type": "code",
      "source": [
        "ga_instanciaRas2.run()"
      ],
      "metadata": {
        "id": "CDD4wGA-kTSf"
      },
      "execution_count": null,
      "outputs": []
    },
    {
      "cell_type": "code",
      "source": [
        "solution, solution_fitness, solution_idx = ga_instanciaRas2.best_solution()\n",
        "print(\"Mejor solución : {solution}\".format(solution=solution))\n",
        "print(\"Valor de la función objetivo = {solution_fitness}\".format(solution_fitness=solution_fitness))\n",
        "print(\"Posición de la mejor solución = {solution_idx}\".format(solution_idx=solution_idx))"
      ],
      "metadata": {
        "id": "tnng6K_vkT99"
      },
      "execution_count": null,
      "outputs": []
    },
    {
      "cell_type": "code",
      "source": [
        "ga_instanciaRas2.plot_fitness()"
      ],
      "metadata": {
        "id": "sokFYSbjkUxG"
      },
      "execution_count": null,
      "outputs": []
    },
    {
      "cell_type": "code",
      "source": [
        "ga_instanciaRas2.plot_genes(graph_type='histogram')"
      ],
      "metadata": {
        "id": "bCCltUU1kV1q"
      },
      "execution_count": null,
      "outputs": []
    },
    {
      "cell_type": "code",
      "source": [
        "Pob = ga_instanciaRas2.solutions"
      ],
      "metadata": {
        "id": "l6EJcDTFkW6v"
      },
      "execution_count": null,
      "outputs": []
    },
    {
      "cell_type": "code",
      "source": [
        "len(Pob)"
      ],
      "metadata": {
        "id": "vZuxF_FwkXls"
      },
      "execution_count": null,
      "outputs": []
    },
    {
      "cell_type": "code",
      "source": [
        "for j in range(num_generations+1):\n",
        "    Pob = np.array(ga_instanciaRas2.solutions[j*sol_per_pop:(j+1)*sol_per_pop])\n",
        "    fig, ax = plt.subplots()\n",
        "    ax.contour(X,Y,Z, levels = 20)\n",
        "    ax.scatter(Pob[:,0],Pob[:,1])\n",
        "    plt.title(\"Función mi_f() Generación \" + str(j))\n",
        "    plt.show()"
      ],
      "metadata": {
        "id": "0Fm90fSNkYwa"
      },
      "execution_count": null,
      "outputs": []
    },
    {
      "cell_type": "markdown",
      "source": [
        "###### Animación de la evolución"
      ],
      "metadata": {
        "id": "oeI3pHmxkbGB"
      }
    },
    {
      "cell_type": "code",
      "source": [
        "%matplotlib inline"
      ],
      "metadata": {
        "id": "pEcRQk2ykdv8"
      },
      "execution_count": null,
      "outputs": []
    },
    {
      "cell_type": "code",
      "source": [
        "from matplotlib import animation, rc\n",
        "from IPython.display import HTML"
      ],
      "metadata": {
        "id": "KM4o3N4JkfLP"
      },
      "execution_count": null,
      "outputs": []
    },
    {
      "cell_type": "code",
      "source": [
        "fig, ax = plt.subplots()\n",
        "\n",
        "ax.set_xlim(( -1, 1))\n",
        "ax.set_ylim((-1, 1))\n",
        "ax.contour(X,Y,Z, levels = 50)\n",
        "scatter, = ax.plot([], [], '*')"
      ],
      "metadata": {
        "id": "HfdURQRAkgGV"
      },
      "execution_count": null,
      "outputs": []
    },
    {
      "cell_type": "code",
      "source": [
        "# initialization function: plot the background of each frame\n",
        "def init():\n",
        "    scatter.set_data([], [])\n",
        "    return (scatter,)"
      ],
      "metadata": {
        "id": "Sx3du1ffkiDh"
      },
      "execution_count": null,
      "outputs": []
    },
    {
      "cell_type": "code",
      "source": [
        "# animation function. This is called sequentially\n",
        "def animate(i):\n",
        "    Pob = np.array(ga_instanciaRas2.solutions[i*sol_per_pop:(i+1)*sol_per_pop])\n",
        "    scatter.set_data(Pob[:,0],Pob[:,1])\n",
        "    return (scatter,)"
      ],
      "metadata": {
        "id": "6_gsf7JgkixD"
      },
      "execution_count": null,
      "outputs": []
    },
    {
      "cell_type": "code",
      "source": [
        "# call the animator. blit=True means only re-draw the parts that have changed.\n",
        "anim = animation.FuncAnimation(fig, animate, init_func=init,\n",
        "                               frames=50, interval=500, blit=True)"
      ],
      "metadata": {
        "id": "93JBdq-Jkj1h"
      },
      "execution_count": null,
      "outputs": []
    },
    {
      "cell_type": "code",
      "source": [
        "HTML(anim.to_html5_video())"
      ],
      "metadata": {
        "id": "p_UpIguNkk7h"
      },
      "execution_count": null,
      "outputs": []
    },
    {
      "cell_type": "markdown",
      "metadata": {
        "id": "3-_aZv68tig3"
      },
      "source": [
        "##### Función Rastrigin (Rastrigin function) - 3 Dimensiones"
      ]
    },
    {
      "cell_type": "markdown",
      "source": [
        "A continuación se presenta la optimización de la función `FRas3` usando el modulo PyGAD."
      ],
      "metadata": {
        "id": "HLShWOe-mMF1"
      }
    },
    {
      "cell_type": "code",
      "source": [
        "fRas3 = lambda x, y, z: 20 + (x**2 - 10 * np.cos(2 * np.pi * x)) + (y**2 - 10 * np.cos(2 * np.pi * y)) + (z**2 - 10 * np.cos(2 * np.pi * z))\n",
        "\n",
        "# Gráfica de la función mi_f\n",
        "\n",
        "ncols = 50\n",
        "nrows = 50\n",
        "nzcols = 50\n",
        "x = np.linspace(-2, 2, ncols)\n",
        "y = np.linspace(-2, 2, nrows)\n",
        "z = np.linspace(-2, 2, nzcols)\n",
        "\n",
        "X, Y, Z = np.meshgrid(x, y, z)\n",
        "W = fRas3(X, Y, Z)\n",
        "\n",
        "# Función gradiente\n",
        "dfRas3 = lambda x,y,z: np.array([2 * x + 20 * np.pi * np.sin(2 * np.pi * x), 2 * y + 20 * np.pi * np.sin(2 * np.pi * y), 2 * z + 20 * np.pi * np.sin(2 * np.pi * z)])\n",
        "\n",
        "FRas3 = lambda X: fRas3(X[0],X[1],X[2])\n",
        "dFRas3 = lambda X: dfRas3(X[0],X[1],X[2])"
      ],
      "metadata": {
        "id": "hpcL-zbPl2Vn"
      },
      "execution_count": null,
      "outputs": []
    },
    {
      "cell_type": "markdown",
      "source": [
        "Para usar PyGAD la función de fitness debe incorporar tres argumentos:\n",
        "\n",
        "1. La instancia de `pygad.GA` que contiene los parámetros de la optimización.\n",
        "2. La solución candidata, $x$\n",
        "3. El índice de la solución candidata dentro de la población.\n",
        "\n",
        "Los argumentos 1 y 3 son necesarios para aprovechar las capacidades del algoritmo para almacenar y operar internamente con las soluciones.\n"
      ],
      "metadata": {
        "id": "6aD3cY4hmSvk"
      }
    },
    {
      "cell_type": "code",
      "source": [
        "def mi_f_fitness(ga_instance,solution,solution_idx):\n",
        "  y = FRas3(solution)\n",
        "  #print(solution)\n",
        "  return(y)"
      ],
      "metadata": {
        "id": "5cAicGm0mDAV"
      },
      "execution_count": null,
      "outputs": []
    },
    {
      "cell_type": "markdown",
      "source": [
        "Ahora se define `ga_instancia` que contiene todos los parámetros del algoritmo evolutivo:"
      ],
      "metadata": {
        "id": "22qleFiJmVuF"
      }
    },
    {
      "cell_type": "code",
      "source": [
        "fitness_function = mi_f_fitness\n",
        "\n",
        "num_generations = 50\n",
        "num_parents_mating = 2\n",
        "\n",
        "sol_per_pop = 10\n",
        "num_genes = 3\n",
        "\n",
        "init_range_low = -10.0\n",
        "init_range_high = 10.0\n",
        "\n",
        "parent_selection_type = \"sss\"\n",
        "keep_parents = 1\n",
        "\n",
        "crossover_type = \"single_point\"\n",
        "\n",
        "mutation_type = \"random\"\n",
        "mutation_percent_genes = 10"
      ],
      "metadata": {
        "id": "uYVi9tSnmFNQ"
      },
      "execution_count": null,
      "outputs": []
    },
    {
      "cell_type": "code",
      "source": [
        "ga_instanciaRas3 = pygad.GA(num_generations=num_generations,\n",
        "                       num_parents_mating=num_parents_mating,\n",
        "                       fitness_func=fitness_function,\n",
        "                       sol_per_pop=sol_per_pop,\n",
        "                       num_genes=num_genes,\n",
        "                       init_range_low=init_range_low,\n",
        "                       init_range_high=init_range_high,\n",
        "                       gene_space = {'low': -1.0, 'high': 1.0},\n",
        "                       parent_selection_type=parent_selection_type,\n",
        "                       keep_parents=keep_parents,\n",
        "                       crossover_type=crossover_type,\n",
        "                       mutation_type=mutation_type,\n",
        "                       mutation_percent_genes=mutation_percent_genes,\n",
        "                       save_solutions=True)"
      ],
      "metadata": {
        "id": "ve0C82FVmHMn"
      },
      "execution_count": null,
      "outputs": []
    },
    {
      "cell_type": "markdown",
      "source": [
        "A continuación se ejecuta la optimización:"
      ],
      "metadata": {
        "id": "61Ybi8thmpqK"
      }
    },
    {
      "cell_type": "code",
      "source": [
        "ga_instanciaRas3.run()"
      ],
      "metadata": {
        "id": "wlQOKNQdmrTw"
      },
      "execution_count": null,
      "outputs": []
    },
    {
      "cell_type": "markdown",
      "source": [
        "Veamos los resultados:"
      ],
      "metadata": {
        "id": "h2w48pVVmsWw"
      }
    },
    {
      "cell_type": "code",
      "source": [
        "solution, solution_fitness, solution_idx = ga_instanciaRas3.best_solution()\n",
        "print(\"Mejor solución : {solution}\".format(solution=solution))\n",
        "print(\"Valor de la función objetivo = {solution_fitness}\".format(solution_fitness=solution_fitness))\n",
        "print(\"Posición de la mejor solución = {solution_idx}\".format(solution_idx=solution_idx))"
      ],
      "metadata": {
        "id": "svwirgHOmuIP"
      },
      "execution_count": null,
      "outputs": []
    },
    {
      "cell_type": "code",
      "source": [
        "ga_instanciaRas3.plot_fitness()"
      ],
      "metadata": {
        "id": "ICjCOvppmv3t"
      },
      "execution_count": null,
      "outputs": []
    },
    {
      "cell_type": "code",
      "source": [
        "ga_instanciaRas3.plot_genes(graph_type='histogram')"
      ],
      "metadata": {
        "id": "ojKXKWtZmxHQ"
      },
      "execution_count": null,
      "outputs": []
    },
    {
      "cell_type": "code",
      "source": [
        "Pob = ga_instanciaRas3.solutions"
      ],
      "metadata": {
        "id": "FiVvmDU7nVl6"
      },
      "execution_count": null,
      "outputs": []
    },
    {
      "cell_type": "code",
      "source": [
        "len(Pob)"
      ],
      "metadata": {
        "id": "GgY-rzNsnWfv"
      },
      "execution_count": null,
      "outputs": []
    },
    {
      "cell_type": "code",
      "source": [
        "for j in range(num_generations+1):\n",
        "    Pob = np.array(ga_instanciaRas3.solutions[j*sol_per_pop:(j+1)*sol_per_pop])\n",
        "    fig, ax = plt.subplots()\n",
        "    ax.contour(X[:,:,0], Y[:,:,0], W[:,:,0], levels=20)\n",
        "    ax.scatter(Pob[:, 0], Pob[:, 1], Pob[:, 2], marker='o', c='b')\n",
        "    plt.title(\"Función mi_f() Generación \" + str(j))\n",
        "    plt.show()"
      ],
      "metadata": {
        "id": "bJDOx09znXS3"
      },
      "execution_count": null,
      "outputs": []
    },
    {
      "cell_type": "markdown",
      "source": [
        "###### Animación de la evolución"
      ],
      "metadata": {
        "id": "KNPQIdZ8nYy6"
      }
    },
    {
      "cell_type": "code",
      "source": [
        "%matplotlib inline"
      ],
      "metadata": {
        "id": "LDhjJw4kna-A"
      },
      "execution_count": null,
      "outputs": []
    },
    {
      "cell_type": "code",
      "source": [
        "from mpl_toolkits.mplot3d.art3d import Path3DCollection\n",
        "# animation function. This is called sequentially\n",
        "fig = plt.figure()\n",
        "ax = fig.add_subplot(111, projection='3d')\n",
        "\n",
        "ax.set_xlim(( -2, 2))\n",
        "ax.set_ylim((-2, 2))\n",
        "ax.set_zlim((0, 40))\n",
        "ax.set_xlabel('X')\n",
        "ax.set_ylabel('Y')\n",
        "ax.set_zlabel('Z')\n",
        "ax.view_init(elev=90, azim=0)\n",
        "ax.contour3D(X[:,:,0], Y[:,:,0], W[:,:,0], levels=7)\n",
        "\n",
        "# Initialize the scatter plot outside the animate function\n",
        "scatter = ax.scatter([], [], [], s=100, c='b', marker='*')\n",
        "\n",
        "def animate(i):\n",
        "    # Update the offsets and sizes of the scatter plot for each frame\n",
        "    Pob = np.array(ga_instanciaRas3.solutions[i*sol_per_pop:(i+1)*sol_per_pop])\n",
        "    scatter._offsets3d = (Pob[:,0], Pob[:,1], Pob[:,2])\n",
        "    scatter._sizes = np.full_like(Pob[:,0], 100)  # Adjust the size as needed\n",
        "    return (scatter,)\n",
        "\n",
        "# call the animator. blit=True means only re-draw the parts that have changed.\n",
        "anim = animation.FuncAnimation(fig, animate, frames=50, interval=500, blit=True)\n",
        "\n",
        "HTML(anim.to_html5_video())"
      ],
      "metadata": {
        "id": "WvJg68I8nfHK"
      },
      "execution_count": null,
      "outputs": []
    }
  ],
  "metadata": {
    "colab": {
      "provenance": []
    },
    "kernelspec": {
      "display_name": "Python 3",
      "name": "python3"
    },
    "language_info": {
      "name": "python"
    }
  },
  "nbformat": 4,
  "nbformat_minor": 0
}